{
 "cells": [
  {
   "cell_type": "code",
   "execution_count": 12,
   "metadata": {},
   "outputs": [
    {
     "name": "stdout",
     "output_type": "stream",
     "text": [
      "a est plus grand\n",
      "a est plus petit\n",
      "Vous avez gagnez. Vous avez réussit en  3  tentatives.\n"
     ]
    }
   ],
   "source": [
    "#Exercice 3\n",
    "a = 40\n",
    "rep = 0\n",
    "tentative = 0\n",
    "while rep != a:\n",
    "    rep=int(input(\"Rentrez une valeur : \"))\n",
    "    if rep<a:\n",
    "        print(\"a est plus grand\")\n",
    "    elif rep>a:\n",
    "        print(\"a est plus petit\")\n",
    "    tentative += 1\n",
    "\n",
    "print(\"Vous avez gagnez. Vous avez réussit en \",tentative,\" tentatives.\")"
   ]
  },
  {
   "cell_type": "code",
   "execution_count": 11,
   "metadata": {},
   "outputs": [
    {
     "name": "stdout",
     "output_type": "stream",
     "text": [
      "l'annee n'est pas bissextile\n"
     ]
    }
   ],
   "source": [
    "#Exercice 2\n",
    "user = int(input(\"Rentrez une année\"))\n",
    "if user//4 == 0 and user//400 == 0 :\n",
    "    print(\"l'année est bissextile\")\n",
    "else :\n",
    "    print(\"l'annee n'est pas bissextile\")"
   ]
  },
  {
   "cell_type": "code",
   "execution_count": null,
   "metadata": {},
   "outputs": [],
   "source": []
  }
 ],
 "metadata": {
  "kernelspec": {
   "display_name": "Python 3.9.12 ('base')",
   "language": "python",
   "name": "python3"
  },
  "language_info": {
   "codemirror_mode": {
    "name": "ipython",
    "version": 3
   },
   "file_extension": ".py",
   "mimetype": "text/x-python",
   "name": "python",
   "nbconvert_exporter": "python",
   "pygments_lexer": "ipython3",
   "version": "3.9.12"
  },
  "orig_nbformat": 4,
  "vscode": {
   "interpreter": {
    "hash": "60210617e42cdaf7c08c48b31a40cc0b65e0c8957f8108380e9d272d5a5882e2"
   }
  }
 },
 "nbformat": 4,
 "nbformat_minor": 2
}
