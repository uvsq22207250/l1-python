{
 "cells": [
  {
   "cell_type": "code",
   "execution_count": 9,
   "metadata": {},
   "outputs": [
    {
     "ename": "TypeError",
     "evalue": "AFF() missing 2 required positional arguments: 'mat1' and 'mat2'",
     "output_type": "error",
     "traceback": [
      "\u001b[1;31m---------------------------------------------------------------------------\u001b[0m",
      "\u001b[1;31mTypeError\u001b[0m                                 Traceback (most recent call last)",
      "Cell \u001b[1;32mIn [9], line 13\u001b[0m\n\u001b[0;32m     11\u001b[0m             \u001b[38;5;28mprint\u001b[39m(s, end\u001b[38;5;241m=\u001b[39m\u001b[38;5;124m\"\u001b[39m\u001b[38;5;124m\"\u001b[39m)\n\u001b[0;32m     12\u001b[0m         \u001b[38;5;28mprint\u001b[39m()\n\u001b[1;32m---> 13\u001b[0m \u001b[38;5;28mprint\u001b[39m(\u001b[43mAFF\u001b[49m\u001b[43m(\u001b[49m\u001b[43m)\u001b[49m)\n",
      "\u001b[1;31mTypeError\u001b[0m: AFF() missing 2 required positional arguments: 'mat1' and 'mat2'"
     ]
    }
   ],
   "source": [
    "def place() -> list:\n",
    "    mat1 = []\n",
    "    mat2 = []\n",
    "    for i in range(3):\n",
    "        mat1.append([\"-\" for i in range(3)])\n",
    "    return mat1, mat2\n",
    "\n",
    "def AFF(mat1 : list, mat2 : list) -> None:\n",
    "    for m in mat1 and mat2 :\n",
    "        for s in mat1 and mat2:\n",
    "            print(s, end=\"\")\n",
    "        print()\n",
    "\n",
    "def position() -> int:\n",
    "    print(\"Rentrer un nombre\")\n",
    "    while True:\n",
    "        AFF([[0,1,2], [3,4,5], [6,7,8]])\n",
    "        position = int(input(\"position ->\"))\n"
   ]
  },
  {
   "cell_type": "code",
   "execution_count": null,
   "metadata": {},
   "outputs": [],
   "source": []
  }
 ],
 "metadata": {
  "kernelspec": {
   "display_name": "Python 3.9.12 ('base')",
   "language": "python",
   "name": "python3"
  },
  "language_info": {
   "codemirror_mode": {
    "name": "ipython",
    "version": 3
   },
   "file_extension": ".py",
   "mimetype": "text/x-python",
   "name": "python",
   "nbconvert_exporter": "python",
   "pygments_lexer": "ipython3",
   "version": "3.9.12"
  },
  "orig_nbformat": 4,
  "vscode": {
   "interpreter": {
    "hash": "60210617e42cdaf7c08c48b31a40cc0b65e0c8957f8108380e9d272d5a5882e2"
   }
  }
 },
 "nbformat": 4,
 "nbformat_minor": 2
}
