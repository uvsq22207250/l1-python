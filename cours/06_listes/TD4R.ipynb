{
 "cells": [
  {
   "cell_type": "markdown",
   "metadata": {},
   "source": [
    "# 1. Débuts avec les listes"
   ]
  },
  {
   "cell_type": "code",
   "execution_count": 1,
   "metadata": {},
   "outputs": [
    {
     "name": "stdout",
     "output_type": "stream",
     "text": [
      "[3, 5, 10]\n"
     ]
    }
   ],
   "source": [
    "#1\n",
    "a=[3,5,10]\n",
    "print(a)"
   ]
  },
  {
   "cell_type": "code",
   "execution_count": 2,
   "metadata": {},
   "outputs": [
    {
     "name": "stdout",
     "output_type": "stream",
     "text": [
      "[3, 5, 10, 12, 17]\n"
     ]
    }
   ],
   "source": [
    "#2\n",
    "a.extend([12,17])\n",
    "print(a)"
   ]
  },
  {
   "cell_type": "code",
   "execution_count": 3,
   "metadata": {},
   "outputs": [
    {
     "name": "stdout",
     "output_type": "stream",
     "text": [
      "[3, 5, -7, 12, 17]\n"
     ]
    }
   ],
   "source": [
    "#3.1\n",
    "a[2]=-7\n",
    "print(a)"
   ]
  },
  {
   "cell_type": "code",
   "execution_count": 4,
   "metadata": {},
   "outputs": [],
   "source": [
    "#3.2\n",
    "a[a.index(17)] = -7"
   ]
  },
  {
   "cell_type": "code",
   "execution_count": 5,
   "metadata": {},
   "outputs": [
    {
     "name": "stdout",
     "output_type": "stream",
     "text": [
      "[6, 10, -14, 24, -14]\n",
      "[3.0, 5.0, -7.0, 12.0, -7.0]\n"
     ]
    }
   ],
   "source": [
    "#4\n",
    "for i in range(len(a)):\n",
    "    a[i]=a[i]*2\n",
    "print(a)\n",
    "for i in range(len(a)):\n",
    "    a[i]=a[i]/2\n",
    "print(a)"
   ]
  },
  {
   "cell_type": "code",
   "execution_count": 58,
   "metadata": {},
   "outputs": [
    {
     "name": "stdout",
     "output_type": "stream",
     "text": [
      "[15.0, 23.0, -25.0, 51.0, -25.0]\n"
     ]
    }
   ],
   "source": [
    "#5 ?\n",
    "for i in range(len(a)):\n",
    "    a[i]=a[i]*2+1\n",
    "print(a)"
   ]
  },
  {
   "cell_type": "code",
   "execution_count": 59,
   "metadata": {},
   "outputs": [
    {
     "name": "stdout",
     "output_type": "stream",
     "text": [
      "Voici le résultat : [74, 77, 94, 67, 95, 63, 68, 31, 74, 10]\n",
      "Voici le résultat trié : [10, 31, 63, 67, 68, 74, 74, 77, 94, 95]\n",
      "Voici le plus grand nombre tiré : 95\n"
     ]
    }
   ],
   "source": [
    "#6\n",
    "import random\n",
    "tir=[]\n",
    "for i in range(10):\n",
    "    tir.append(random.randint(10,99))\n",
    "print(\"Voici le résultat :\", tir)\n",
    "tir2=sorted(tir, reverse=False)\n",
    "print(\"Voici le résultat trié :\", tir2)\n",
    "print(\"Voici le plus grand nombre tiré :\", tir2[9])"
   ]
  },
  {
   "cell_type": "code",
   "execution_count": 54,
   "metadata": {},
   "outputs": [
    {
     "name": "stdout",
     "output_type": "stream",
     "text": [
      "pairs [58, 36, 50, 28] et impairs [21, 89, 51, 55, 93, 59]\n"
     ]
    }
   ],
   "source": [
    "#7\n",
    "pair, impair = [], []\n",
    "for elem in tir:\n",
    "    if elem%2 == 0:\n",
    "        pair.append(elem)\n",
    "    else:\n",
    "        impair.append(elem)\n",
    "print (\"pairs\", pair, \"et impairs\", impair)"
   ]
  },
  {
   "cell_type": "code",
   "execution_count": 55,
   "metadata": {},
   "outputs": [
    {
     "name": "stdout",
     "output_type": "stream",
     "text": [
      "[21, 28, 36, 50, 51, 55, 58, 59, 89, 93]\n"
     ]
    }
   ],
   "source": [
    "#8\n",
    "print(tir2)"
   ]
  },
  {
   "cell_type": "code",
   "execution_count": 57,
   "metadata": {},
   "outputs": [
    {
     "name": "stdout",
     "output_type": "stream",
     "text": [
      "[28, 36, 50, 51, 55, 58, 59, 89]\n"
     ]
    }
   ],
   "source": [
    "#9\n",
    "del tir2[0] \n",
    "del tir2[8]\n",
    "print(tir2)"
   ]
  },
  {
   "cell_type": "code",
   "execution_count": 52,
   "metadata": {},
   "outputs": [
    {
     "name": "stdout",
     "output_type": "stream",
     "text": [
      "[1, 2, 3, 4, 5, 6, 7, 8, 9, 10, 11, 12, 13, 14, 15, 16, 17, 18, 19, 20, 21, 22, 23, 24, 25, 26, 27, 28, 29, 30, 31, 32, 33, 34, 35, 36, 37, 38, 39, 40, 41, 42, 43, 44, 45, 46, 47, 48, 49, 50, 51, 52]\n"
     ]
    }
   ],
   "source": [
    "#10\n",
    "carte = [b for b in range(1,53)]\n",
    "print(carte)"
   ]
  },
  {
   "cell_type": "code",
   "execution_count": 73,
   "metadata": {},
   "outputs": [
    {
     "name": "stdout",
     "output_type": "stream",
     "text": [
      "premier jeu [1, 2, 3, 4, 5, 6, 7, 8, 9, 10, 11, 12, 13, 14, 15, 16, 17, 18, 19, 20, 21, 22, 23, 24, 25, 26, 27, 28]   deuxième jeu [30, 31, 32, 33, 34, 35, 36, 37, 38, 39, 40, 41, 42, 43, 44, 45, 46, 47, 48, 49, 50, 51, 52]\n"
     ]
    }
   ],
   "source": [
    "#11\n",
    "i = random.randint(1,52)\n",
    "c1, c2 = [c for c in range(1,i-1)], [d for d in range(i,53)]\n",
    "print(\"premier jeu\",c1,\" \",\"deuxième jeu\",c2)"
   ]
  },
  {
   "cell_type": "code",
   "execution_count": 76,
   "metadata": {},
   "outputs": [
    {
     "name": "stdout",
     "output_type": "stream",
     "text": [
      "[18, 19, 20, 21, 22, 23, 24, 25, 26, 27, 28, 29, 30, 31, 32, 33, 34, 35, 36, 37, 38, 39, 40, 41, 42, 43, 44, 45, 46, 47, 48, 49, 50, 51, 52] [1, 2, 3, 4, 5, 6, 7, 8, 9, 10, 11, 12, 13, 14, 15, 16]\n"
     ]
    }
   ],
   "source": [
    "#11\n",
    "i = random.randint(1,52)\n",
    "print(carte[i:],carte[:i-1])"
   ]
  },
  {
   "cell_type": "markdown",
   "metadata": {},
   "source": [
    "# 2. Pb de Siracuse"
   ]
  },
  {
   "cell_type": "code",
   "execution_count": 3,
   "metadata": {},
   "outputs": [
    {
     "name": "stdout",
     "output_type": "stream",
     "text": [
      "[3, 10, 5, 16, 8, 4, 2, 1]\n"
     ]
    }
   ],
   "source": [
    "#2\n",
    "\n",
    "def syracuse (n):\n",
    "    liste = [n]\n",
    "    while n != 1:\n",
    "        if n%2 == 0:\n",
    "            n = n//2\n",
    "        else :\n",
    "            n = n*3+1\n",
    "        liste.append(n)\n",
    "    return liste\n",
    "\n",
    "print(syracuse(3))"
   ]
  },
  {
   "cell_type": "code",
   "execution_count": 9,
   "metadata": {},
   "outputs": [
    {
     "ename": "KeyboardInterrupt",
     "evalue": "",
     "output_type": "error",
     "traceback": [
      "\u001b[1;31m---------------------------------------------------------------------------\u001b[0m",
      "\u001b[1;31mKeyboardInterrupt\u001b[0m                         Traceback (most recent call last)",
      "Cell \u001b[1;32mIn [9], line 6\u001b[0m\n\u001b[0;32m      4\u001b[0m         syracuse(i)\n\u001b[0;32m      5\u001b[0m     \u001b[38;5;28;01mreturn\u001b[39;00m \u001b[38;5;28;01mTrue\u001b[39;00m\n\u001b[1;32m----> 6\u001b[0m \u001b[38;5;28mprint\u001b[39m(\u001b[38;5;28;43mmax\u001b[39;49m\u001b[43m(\u001b[49m\u001b[38;5;241;43m5690977678056\u001b[39;49m\u001b[43m)\u001b[49m)\n",
      "Cell \u001b[1;32mIn [9], line 4\u001b[0m, in \u001b[0;36mmax\u001b[1;34m(x)\u001b[0m\n\u001b[0;32m      2\u001b[0m \u001b[38;5;28;01mdef\u001b[39;00m \u001b[38;5;21mmax\u001b[39m(x):\n\u001b[0;32m      3\u001b[0m     \u001b[38;5;28;01mfor\u001b[39;00m i \u001b[38;5;129;01min\u001b[39;00m \u001b[38;5;28mrange\u001b[39m(\u001b[38;5;241m1\u001b[39m, x \u001b[38;5;241m+\u001b[39m \u001b[38;5;241m1\u001b[39m):\n\u001b[1;32m----> 4\u001b[0m         \u001b[43msyracuse\u001b[49m\u001b[43m(\u001b[49m\u001b[43mi\u001b[49m\u001b[43m)\u001b[49m\n\u001b[0;32m      5\u001b[0m     \u001b[38;5;28;01mreturn\u001b[39;00m \u001b[38;5;28;01mTrue\u001b[39;00m\n",
      "Cell \u001b[1;32mIn [3], line 5\u001b[0m, in \u001b[0;36msyracuse\u001b[1;34m(n)\u001b[0m\n\u001b[0;32m      3\u001b[0m \u001b[38;5;28;01mwhile\u001b[39;00m n \u001b[38;5;241m!=\u001b[39m \u001b[38;5;241m1\u001b[39m:\n\u001b[0;32m      4\u001b[0m     \u001b[38;5;28;01mif\u001b[39;00m n\u001b[38;5;241m%\u001b[39m\u001b[38;5;241m2\u001b[39m \u001b[38;5;241m==\u001b[39m \u001b[38;5;241m0\u001b[39m:\n\u001b[1;32m----> 5\u001b[0m         n \u001b[38;5;241m=\u001b[39m \u001b[43mn\u001b[49m\u001b[38;5;241;43m/\u001b[39;49m\u001b[38;5;241;43m/\u001b[39;49m\u001b[38;5;241;43m2\u001b[39;49m\n\u001b[0;32m      6\u001b[0m     \u001b[38;5;28;01melse\u001b[39;00m :\n\u001b[0;32m      7\u001b[0m         n \u001b[38;5;241m=\u001b[39m n\u001b[38;5;241m*\u001b[39m\u001b[38;5;241m3\u001b[39m\u001b[38;5;241m+\u001b[39m\u001b[38;5;241m1\u001b[39m\n",
      "\u001b[1;31mKeyboardInterrupt\u001b[0m: "
     ]
    }
   ],
   "source": [
    "#3\n",
    "def max(x):\n",
    "    for i in range(1, x + 1):\n",
    "        syracuse(i)\n",
    "    return True\n",
    "print(max(5690977678056))"
   ]
  },
  {
   "cell_type": "code",
   "execution_count": 31,
   "metadata": {},
   "outputs": [
    {
     "name": "stdout",
     "output_type": "stream",
     "text": [
      "Le temps de vol est de 3 est 7\n"
     ]
    }
   ],
   "source": [
    "#4\n",
    "def TpsVol(n):\n",
    "    return len(syracuse(n))-1\n",
    "print(\"Le temps de vol est de\", 3, \"est\", TpsVol(3))"
   ]
  },
  {
   "cell_type": "code",
   "execution_count": 39,
   "metadata": {},
   "outputs": [
    {
     "name": "stdout",
     "output_type": "stream",
     "text": [
      "[0, 1, 7, 2, 5, 8, 16, 3, 19, 6, 14, 9, 9, 17, 17, 4, 12, 20, 20, 7, 7, 15, 15, 10, 23, 10, 111, 18, 18, 18, 106, 5, 26, 13, 13, 21, 21, 21, 34, 8, 109, 8, 29, 16, 16, 16, 104, 11, 24, 24, 24, 11, 11, 112, 112, 19, 32, 19, 32, 19, 19, 107, 107, 6, 27, 27, 27, 14, 14, 14, 102, 22, 115, 22, 14, 22, 22, 35, 35, 9, 22, 110, 110, 9, 9, 30, 30, 17, 30, 17, 92, 17, 17, 105, 105, 12, 118, 25, 25, 25]\n"
     ]
    }
   ],
   "source": [
    "#5\n",
    "def VolListe(max):\n",
    "    return [TpsVol(i) for i in range(1, max + 1)]\n",
    "    \n",
    "print(VolListe(100))\n",
    "#liste_temps = VolListe(10000)\n",
    "#temps_max = max(liste_temps)\n",
    "#print(\"l'entier\", liste_temps.index(temps_max) + 1, \"a le plus grd tps de vol égal à\", temps_max)"
   ]
  },
  {
   "cell_type": "code",
   "execution_count": 40,
   "metadata": {},
   "outputs": [
    {
     "ename": "TypeError",
     "evalue": "can only concatenate list (not \"int\") to list",
     "output_type": "error",
     "traceback": [
      "\u001b[1;31m---------------------------------------------------------------------------\u001b[0m",
      "\u001b[1;31mTypeError\u001b[0m                                 Traceback (most recent call last)",
      "Cell \u001b[1;32mIn [40], line 6\u001b[0m\n\u001b[0;32m      4\u001b[0m \u001b[38;5;28;01mdef\u001b[39;00m \u001b[38;5;21mAltMListe\u001b[39m(\u001b[38;5;28mmax\u001b[39m):\n\u001b[0;32m      5\u001b[0m     \u001b[38;5;28;01mreturn\u001b[39;00m[AltMax(i) \u001b[38;5;28;01mfor\u001b[39;00m i \u001b[38;5;129;01min\u001b[39;00m \u001b[38;5;28mrange\u001b[39m(\u001b[38;5;241m1\u001b[39m,\u001b[38;5;28mmax\u001b[39m\u001b[38;5;241m+\u001b[39m\u001b[38;5;241m1\u001b[39m)]\n\u001b[1;32m----> 6\u001b[0m list_alt \u001b[38;5;241m=\u001b[39m \u001b[43mAltMListe\u001b[49m\u001b[43m(\u001b[49m\u001b[38;5;241;43m10000\u001b[39;49m\u001b[43m)\u001b[49m\n\u001b[0;32m      7\u001b[0m Alt\u001b[38;5;241m=\u001b[39m\u001b[38;5;28mmax\u001b[39m(list_alt)\n\u001b[0;32m      8\u001b[0m \u001b[38;5;28mprint\u001b[39m(\u001b[38;5;124m\"\u001b[39m\u001b[38;5;124mL\u001b[39m\u001b[38;5;124m'\u001b[39m\u001b[38;5;124mentier\u001b[39m\u001b[38;5;124m\"\u001b[39m,list_alt\u001b[38;5;241m.\u001b[39mindex(Alt)\u001b[38;5;241m+\u001b[39m\u001b[38;5;241m1\u001b[39m,\u001b[38;5;124m\"\u001b[39m\u001b[38;5;124ma la plus grande alititude égale à :\u001b[39m\u001b[38;5;124m\"\u001b[39m, Alt)\n",
      "Cell \u001b[1;32mIn [40], line 5\u001b[0m, in \u001b[0;36mAltMListe\u001b[1;34m(max)\u001b[0m\n\u001b[0;32m      4\u001b[0m \u001b[38;5;28;01mdef\u001b[39;00m \u001b[38;5;21mAltMListe\u001b[39m(\u001b[38;5;28mmax\u001b[39m):\n\u001b[1;32m----> 5\u001b[0m     \u001b[38;5;28;01mreturn\u001b[39;00m[AltMax(i) \u001b[38;5;28;01mfor\u001b[39;00m i \u001b[38;5;129;01min\u001b[39;00m \u001b[38;5;28mrange\u001b[39m(\u001b[38;5;241m1\u001b[39m,\u001b[38;5;28mmax\u001b[39m\u001b[38;5;241m+\u001b[39m\u001b[38;5;241m1\u001b[39m)]\n",
      "Cell \u001b[1;32mIn [40], line 5\u001b[0m, in \u001b[0;36m<listcomp>\u001b[1;34m(.0)\u001b[0m\n\u001b[0;32m      4\u001b[0m \u001b[38;5;28;01mdef\u001b[39;00m \u001b[38;5;21mAltMListe\u001b[39m(\u001b[38;5;28mmax\u001b[39m):\n\u001b[1;32m----> 5\u001b[0m     \u001b[38;5;28;01mreturn\u001b[39;00m[\u001b[43mAltMax\u001b[49m\u001b[43m(\u001b[49m\u001b[43mi\u001b[49m\u001b[43m)\u001b[49m \u001b[38;5;28;01mfor\u001b[39;00m i \u001b[38;5;129;01min\u001b[39;00m \u001b[38;5;28mrange\u001b[39m(\u001b[38;5;241m1\u001b[39m,\u001b[38;5;28mmax\u001b[39m\u001b[38;5;241m+\u001b[39m\u001b[38;5;241m1\u001b[39m)]\n",
      "Cell \u001b[1;32mIn [40], line 3\u001b[0m, in \u001b[0;36mAltMax\u001b[1;34m(n)\u001b[0m\n\u001b[0;32m      2\u001b[0m \u001b[38;5;28;01mdef\u001b[39;00m \u001b[38;5;21mAltMax\u001b[39m(n):\n\u001b[1;32m----> 3\u001b[0m     \u001b[38;5;28;01mreturn\u001b[39;00m \u001b[38;5;28;43mmax\u001b[39;49m\u001b[43m(\u001b[49m\u001b[43msyracuse\u001b[49m\u001b[43m(\u001b[49m\u001b[43mn\u001b[49m\u001b[43m)\u001b[49m\u001b[43m)\u001b[49m\n",
      "Cell \u001b[1;32mIn [9], line 3\u001b[0m, in \u001b[0;36mmax\u001b[1;34m(x)\u001b[0m\n\u001b[0;32m      2\u001b[0m \u001b[38;5;28;01mdef\u001b[39;00m \u001b[38;5;21mmax\u001b[39m(x):\n\u001b[1;32m----> 3\u001b[0m     \u001b[38;5;28;01mfor\u001b[39;00m i \u001b[38;5;129;01min\u001b[39;00m \u001b[38;5;28mrange\u001b[39m(\u001b[38;5;241m1\u001b[39m, \u001b[43mx\u001b[49m\u001b[43m \u001b[49m\u001b[38;5;241;43m+\u001b[39;49m\u001b[43m \u001b[49m\u001b[38;5;241;43m1\u001b[39;49m):\n\u001b[0;32m      4\u001b[0m         syracuse(i)\n\u001b[0;32m      5\u001b[0m     \u001b[38;5;28;01mreturn\u001b[39;00m \u001b[38;5;28;01mTrue\u001b[39;00m\n",
      "\u001b[1;31mTypeError\u001b[0m: can only concatenate list (not \"int\") to list"
     ]
    }
   ],
   "source": [
    "#6\n",
    "def AltMax(n):\n",
    "    return max(syracuse(n))\n",
    "def AltMListe(max):\n",
    "    return[AltMax(i) for i in range(1,max+1)]\n",
    "list_alt = AltMListe(10000)\n",
    "Alt = max(list_alt)\n",
    "print(\"L'entier\",list_alt.index(Alt)+1,\"a la plus grande alititude égale à :\", Alt)"
   ]
  },
  {
   "cell_type": "markdown",
   "metadata": {},
   "source": [
    "## 3. Carré magique"
   ]
  },
  {
   "cell_type": "code",
   "execution_count": 14,
   "metadata": {},
   "outputs": [
    {
     "name": "stdout",
     "output_type": "stream",
     "text": [
      "ligne 1 :  34\n",
      "colonne 1 :  34\n",
      "diagonale 1 :  34\n",
      " \n",
      "ligne 4 :  34\n",
      "colonne 4 :  34\n",
      "diagonale 4 :  34\n"
     ]
    }
   ],
   "source": [
    "#1\n",
    "print(\"ligne 1 : \",4+14+15+1)\n",
    "print(\"colonne 1 : \",4+9+5+16)\n",
    "print(\"diagonale 1 : \",4+7+10+13)\n",
    "print(\" \")\n",
    "print(\"ligne 4 : \",16+2+3+13)\n",
    "print(\"colonne 4 : \",13+8+12+1)\n",
    "print(\"diagonale 4 : \",13+10+7+4)\n",
    "\n"
   ]
  },
  {
   "cell_type": "code",
   "execution_count": 2,
   "metadata": {},
   "outputs": [
    {
     "name": "stdout",
     "output_type": "stream",
     "text": [
      "[4, 14, 15, 1] \n",
      " [9, 7, 6, 12] \n",
      " [5, 11, 10, 8] \n",
      " [16, 2, 3, 13]\n",
      "\n",
      "[4, 14, 15, 1] \n",
      " [9, 7, 6, 12] \n",
      " [5, 11, 10, 8] \n",
      " [16, 2, 7, 13]\n"
     ]
    }
   ],
   "source": [
    "#2\n",
    "carre_mag=[[4,14,15,1],[9,7,6,12],[5,11,10,8],[16,2,3,13]]\n",
    "#3\n",
    "pas_mag=[[4,14,15,1],[9,7,6,12],[5,11,10,8],[16,2,7,13]]\n",
    "\n",
    "#4\n",
    "def aff(carre):\n",
    "    print(carre[0],\"\\n\", carre[1], \"\\n\", carre[2], \"\\n\", carre[3])\n",
    "\n",
    "aff(carre_mag)\n",
    "print(\"\")\n",
    "aff(pas_mag)"
   ]
  },
  {
   "cell_type": "code",
   "execution_count": 14,
   "metadata": {},
   "outputs": [
    {
     "name": "stdout",
     "output_type": "stream",
     "text": [
      "34\n",
      "-1\n"
     ]
    }
   ],
   "source": [
    "#5\n",
    "def testLignesEgales(carre):\n",
    "    \"\"\" Renvoie la somme des éléments d'une ligne de la liste 2D carre si toutes les lignes ont la même somme, et -1 sinon \"\"\"\n",
    "    somme1=sum(carre[0])\n",
    "    for l in carre:\n",
    "        if sum(l) != somme1:\n",
    "            somme1 = -1\n",
    "    return somme1\n",
    "\n",
    "ligne1 = print(testLignesEgales(carre_mag))\n",
    "ligne2 = print(testLignesEgales(pas_mag))"
   ]
  },
  {
   "cell_type": "code",
   "execution_count": 4,
   "metadata": {},
   "outputs": [
    {
     "name": "stdout",
     "output_type": "stream",
     "text": [
      "34\n",
      "-1\n"
     ]
    }
   ],
   "source": [
    "#6\n",
    "def testColonnesEgales(carre):\n",
    "    \"\"\" Renvoie la somme des éléments d'une colonne de la liste 2D carre si toutes les colonnes ont la même somme, et -1 sinon \"\"\"\n",
    "    col = [l[0] for l in carre]\n",
    "    somme2 = sum(col)\n",
    "    for i in range (len(carre)):\n",
    "        col = [l[i] for l in carre]\n",
    "        if sum(col) != somme2:\n",
    "            somme2 = -1\n",
    "    return somme2\n",
    "\n",
    "col1 = print(testColonnesEgales(carre_mag))\n",
    "col2 = print(testColonnesEgales(pas_mag))"
   ]
  },
  {
   "cell_type": "code",
   "execution_count": 15,
   "metadata": {},
   "outputs": [
    {
     "name": "stdout",
     "output_type": "stream",
     "text": [
      "34\n",
      "-1\n"
     ]
    }
   ],
   "source": [
    "#7\n",
    "def testDiagonales (carre):\n",
    "    for n in range(0,3):\n",
    "        dia = [l[n] for l in carre]\n",
    "    somme3 = sum(dia)\n",
    "    for i in range(len(carre)):\n",
    "        dia = [l[i] for l in carre]\n",
    "        if sum(dia) != somme3:\n",
    "            somme3 = -1\n",
    "    return somme3\n",
    "\n",
    "dia1 = print(testDiagonales(carre_mag))\n",
    "dia2 = print(testDiagonales(pas_mag))"
   ]
  },
  {
   "cell_type": "code",
   "execution_count": 18,
   "metadata": {},
   "outputs": [
    {
     "name": "stdout",
     "output_type": "stream",
     "text": [
      "True\n",
      "False\n"
     ]
    }
   ],
   "source": [
    "#8\n",
    "def estmag(carre):\n",
    "    li,col,dia = testLignesEgales(carre),testColonnesEgales(carre),testDiagonales(carre)\n",
    "    if li == -1 or col == -1 or dia == -1:\n",
    "        return False\n",
    "    else:\n",
    "        return True\n",
    "\n",
    "print(estmag(carre_mag))\n",
    "print(estmag(pas_mag))"
   ]
  },
  {
   "cell_type": "code",
   "execution_count": 20,
   "metadata": {},
   "outputs": [
    {
     "name": "stdout",
     "output_type": "stream",
     "text": [
      "True\n",
      "False\n"
     ]
    }
   ],
   "source": [
    "def estmag(carre):\n",
    "    if testLignesEgales(carre) == -1 or testColonnesEgales(carre) == -1 or testDiagonales(carre) ==-1:\n",
    "        return False\n",
    "    else:\n",
    "        return True\n",
    "\n",
    "print(estmag(carre_mag))\n",
    "print(estmag(pas_mag))"
   ]
  },
  {
   "cell_type": "code",
   "execution_count": 26,
   "metadata": {},
   "outputs": [
    {
     "name": "stdout",
     "output_type": "stream",
     "text": [
      "True\n",
      "False\n"
     ]
    }
   ],
   "source": [
    "def Normal(carre):\n",
    "    n = len(carre)\n",
    "    for i in range (1, n**2+1):\n",
    "        b = False\n",
    "        for ligne in carre:\n",
    "            if i in ligne:\n",
    "                b = True\n",
    "                break\n",
    "        if b == False:\n",
    "            return False\n",
    "    return True\n",
    "\n",
    "print(Normal(carre_mag))\n",
    "print(Normal(pas_mag))\n"
   ]
  }
 ],
 "metadata": {
  "kernelspec": {
   "display_name": "Python 3.9.12 ('base')",
   "language": "python",
   "name": "python3"
  },
  "language_info": {
   "codemirror_mode": {
    "name": "ipython",
    "version": 3
   },
   "file_extension": ".py",
   "mimetype": "text/x-python",
   "name": "python",
   "nbconvert_exporter": "python",
   "pygments_lexer": "ipython3",
   "version": "3.9.12"
  },
  "orig_nbformat": 4,
  "vscode": {
   "interpreter": {
    "hash": "60210617e42cdaf7c08c48b31a40cc0b65e0c8957f8108380e9d272d5a5882e2"
   }
  }
 },
 "nbformat": 4,
 "nbformat_minor": 2
}
