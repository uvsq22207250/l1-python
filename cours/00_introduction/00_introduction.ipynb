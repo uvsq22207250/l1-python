{
 "cells": [
  {
   "cell_type": "markdown",
   "metadata": {
    "slideshow": {
     "slide_type": "slide"
    }
   },
   "source": [
    "#  IN100 : introduction au cours"
   ]
  },
  {
   "cell_type": "markdown",
   "metadata": {
    "slideshow": {
     "slide_type": "slide"
    }
   },
   "source": [
    "## 1. Emplois du temps\n",
    "---\n",
    "\n",
    "* [Emploi du temps officiel](https://edt.uvsq.fr/cal?vt=month&dt=2022-09-01&et=module&id=LSIN100N). Ce module s'appelle **LS**IN100**N**. 12 semaines de TD et 12 semaines de cours.\n",
    "* Chaque créneau dure 1 heure et 30 minutes.\n",
    "* Les travaux dirigés (TDs) ont lieu toutes les semaines. Le premier TD commence la semaine du 19 septembre.\n",
    "* Il est  impératif d'être inscrit au cours IN100N sur Moodle, c'est via Moodle que vous recevrez les informations importantes.\n",
    "* Tous les supports de cours et sujets de TDs seront accessibles via Moodle, et principalement sur un dépot github via ce [lien](https://github.com/uvsq-info/l1-python) là.\n",
    "* Il faut disposer d'un ordinateur pour les TDs. Emprunts possibles à la bibliothèque, mais on essaye d'avoir tout de suite une solution pour programmer.\n",
    "\n"
   ]
  },
  {
   "cell_type": "markdown",
   "metadata": {
    "slideshow": {
     "slide_type": "slide"
    }
   },
   "source": [
    "## 2. Environnement de programmation pour Python\n",
    "---\n",
    "\n",
    "Un programme est un *fichier texte* qui doit être interprété pour être exécuté. Pour cela il faut installer des logiciels:\n",
    "* un interpréteur: Python3 issu de la distribution Miniconda\n",
    "* un éditeur de texte: VisualStudioCode (ou vscode pour faire court)\n",
    "* des bibliothèques: numpy, matplotlib, jupyter\n",
    "* des outils de programmation: git, flake8, mypy\n",
    "\n"
   ]
  },
  {
   "cell_type": "markdown",
   "metadata": {
    "slideshow": {
     "slide_type": "slide"
    }
   },
   "source": [
    "Sur votre ordinateur personnel, vous devez suivre la procédure d'installation décrite sur [ce site](https://github.com/uvsq-info/l1-python/blob/master/INSTALL.md).\n",
    "\n",
    "* même si vous avez déjà une installation Python, il est fortement recommandé de faire cette nouvelle installation\n",
    "* il faut impérativement **installer le maximum de logiciels avant votre premier td** durant lequel on pourra vous aider\n",
    "* on utilise **Python3** et pas Python2"
   ]
  },
  {
   "cell_type": "markdown",
   "metadata": {
    "slideshow": {
     "slide_type": "subslide"
    }
   },
   "source": [
    "**Environnement de programmation: plusieurs solutions**\n",
    "\n",
    "---\n",
    "\n",
    "* solution à privilégier: ordinateur personnel avec l'installation de l'environnement\n",
    "* sinon, pour les TDs: utilisation du cartable numérique\n",
    "    * prêt à la demi-journée à la bibliothèque\n",
    "    * carte d'étudiant obligatoire\n",
    "    * sauvegarde via l'outil git et compte [github](https://github.com/)\n",
    "* en cas d'impossibilité d'installer l'environnement: utilisation d'un notebook Python en ligne comme [Google Colab](https://colab.research.google.com/notebooks/intro.ipynb#recent=true). Cette solution ne permet pas d'utiliser les outils de programmation."
   ]
  },
  {
   "cell_type": "markdown",
   "metadata": {
    "slideshow": {
     "slide_type": "slide"
    }
   },
   "source": [
    "## 3. Evaluation du cours\n",
    "---\n",
    "\n",
    "* contrôle continu exclusif\n",
    "* 2 contrôles (qui remplacent deux cours magistraux, QCM) et deux khôlles orales dans le semestre\n",
    "* Moyenne de tout, kholle notée sur 5 mais rapportée sur 20, QCM sur 20, avec points négatifs\n",
    "* Dates à préciser"
   ]
  },
  {
   "cell_type": "markdown",
   "metadata": {},
   "source": [
    "## 3. Evaluation du cours: organisation\n",
    "---\n",
    "\n",
    "* Pour les QCMs, vous aurez droit à une feuille A4 recto-verso.\n",
    "* Les QCMs durent 1h30 mais sont largement finissables en moins de temps que cela.\n",
    "* Les QCMS sont à point négatifs: 20 questions, 1 point bonne réponse, 0 point sans réponse, -0,3 mauvaise réponse\n",
    "* Khôlles: passage de 20 minutes dans la salle pour préparer un sujet puis 5 minutes d'oral avec le.a chargé.e de TD\n",
    "* Note Kholle: de 0 à 5 sans demi-point, remis sur 20 après. A priori une, deux ou trois questions comprenant un petit problème ou une question simple, et trouver la réponse en utilisant la programmation, ou bien un exercice demandant d'écrire un programme faisant une tâche précise."
   ]
  },
  {
   "cell_type": "markdown",
   "metadata": {},
   "source": [
    "## 3. Evaluation du cours: ce qui est attendu\n",
    "---\n",
    "\n",
    "* savoir lire du code \n",
    "* comprendre l'éxécution de programmes simples et imbriqués \n",
    "* retranscription de langage courant en langage Python\n",
    "* être capable, face à un problème simple, de le résoudre en utilisant la programmation"
   ]
  },
  {
   "cell_type": "markdown",
   "metadata": {
    "slideshow": {
     "slide_type": "slide"
    }
   },
   "source": [
    "## 4. Python\n",
    "---\n",
    "\n",
    "* créé par Guido van Russom (Pays-Bas), fan des Monty-Python\n",
    "* première version de Python en 1991\n",
    "* entre autres caractéristiques du langage:\n",
    "    * multiplateformes: Windows, Linux, MacOs, Android...\n",
    "    * gratuit et open-source\n",
    "    * langage de haut-niveau \n",
    "    * bénéficie d'une communauté active\n",
    "    * caractéristiques techniques du langage vues au fur et à mesure du cours"
   ]
  },
  {
   "cell_type": "markdown",
   "metadata": {
    "slideshow": {
     "slide_type": "subslide"
    }
   },
   "source": [
    "**Manières de programmer en Python**\n",
    "\n",
    "---\n",
    "\n",
    "* notebook Python (cf cellule suivante)\n",
    "* interpréteur en mode interactif (démo dans le terminal)\n",
    "* programme (aussi appelé script)\n",
    "    * fichier texte qui contient une suite d'instructions\n",
    "    * on écrit avec un *éditeur de texte*, ce que n'est pas le logiciel word\n",
    "    * on exécute avec un interpréteur\n",
    "* programmer c'est aussi:\n",
    "    * écrire un programme lisible pour soi et les autres\n",
    "    * savoir débugger un programme\n",
    "    * maîtriser des outils de sauvegarde et de gestion de version\n",
    "    \n",
    "**Question:** Python est le meilleur langage du monde?"
   ]
  },
  {
   "cell_type": "code",
   "execution_count": null,
   "metadata": {
    "slideshow": {
     "slide_type": "slide"
    }
   },
   "outputs": [],
   "source": []
  },
  {
   "cell_type": "markdown",
   "metadata": {
    "slideshow": {
     "slide_type": "subslide"
    }
   },
   "source": [
    "**Quelques références**\n",
    "\n",
    "---\n",
    "\n",
    "Vous trouverez beaucoup de cours en ligne. Voici une sélection de références:\n",
    "\n",
    "* livre de cours [en ligne](https://python.sdv.univ-paris-diderot.fr/)\n",
    "* site [https://courspython.com/bases-python.html](https://courspython.com/bases-python.html)\n",
    "* le [tutoriel](https://docs.python.org/fr/3/tutorial/index.html) et la [documentation officielle de Python3](https://docs.python.org/fr/3/)\n",
    "* [chaîne youtube de cours de Python](https://www.youtube.com/channel/UCAu1QoF2PfYcvIQt5lh0-xw) par Docteur algo\n",
    "\n",
    "et des réponses possibles à vos questions sur le site de questions-réponses [stackoverflow](https://stackoverflow.com/) (en anglais)\n",
    "\n"
   ]
  }
 ],
 "metadata": {
  "celltoolbar": "Diaporama",
  "kernelspec": {
   "display_name": "Python 3.9.12 ('base')",
   "language": "python",
   "name": "python3"
  },
  "language_info": {
   "codemirror_mode": {
    "name": "ipython",
    "version": 3
   },
   "file_extension": ".py",
   "mimetype": "text/x-python",
   "name": "python",
   "nbconvert_exporter": "python",
   "pygments_lexer": "ipython3",
   "version": "3.9.12"
  },
  "vscode": {
   "interpreter": {
    "hash": "60210617e42cdaf7c08c48b31a40cc0b65e0c8957f8108380e9d272d5a5882e2"
   }
  }
 },
 "nbformat": 4,
 "nbformat_minor": 4
}
