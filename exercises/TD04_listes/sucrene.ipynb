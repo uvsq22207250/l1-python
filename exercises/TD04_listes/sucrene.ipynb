{
 "cells": [
  {
   "cell_type": "code",
   "execution_count": 22,
   "metadata": {},
   "outputs": [
    {
     "name": "stdout",
     "output_type": "stream",
     "text": [
      "[3, 10, 5, 16, 8, 4, 2, 1]\n",
      "True\n",
      "Le temps de vol de 3 est 7\n",
      "[0, 1, 7, 2, 5, 8, 16, 3, 19, 6, 14, 9, 9, 17, 17, 4, 12, 20, 20, 7, 7, 15, 15, 10, 23, 10, 111, 18, 18, 18, 106, 5, 26, 13, 13, 21, 21, 21, 34, 8, 109, 8, 29, 16, 16, 16, 104, 11, 24, 24, 24, 11, 11, 112, 112, 19, 32, 19, 32, 19, 19, 107, 107, 6, 27, 27, 27, 14, 14, 14, 102, 22, 115, 22, 14, 22, 22, 35, 35, 9, 22, 110, 110, 9, 9, 30, 30, 17, 30, 17, 92, 17, 17, 105, 105, 12, 118, 25, 25, 25]\n",
      "l'entier 6171 a le plus grd tps de vol égal à 261\n",
      "L'entier 9663 a la plus grd altitude max = à 27114424\n"
     ]
    }
   ],
   "source": [
    "def syracuse(n):\n",
    "    liste = [n]\n",
    "    while n != 1:\n",
    "        if n % 2 == 0:\n",
    "            n = n//2\n",
    "        else:\n",
    "            n = n*3+1\n",
    "        liste.append(n)\n",
    "    return liste\n",
    "\n",
    "print(syracuse(3))\n",
    "\n",
    "def testeConjecture(n_max):\n",
    "    for i in range (1, n_max + 1):\n",
    "        syracuse(i)\n",
    "    return True\n",
    "\n",
    "print(testeConjecture(10000))\n",
    "\n",
    "def tempsVol(n):\n",
    "    return len(syracuse(n)) - 1\n",
    "\n",
    "print(\"Le temps de vol de\", 3, \"est\", tempsVol(3))\n",
    "\n",
    "def tempsVolListe(n_max):\n",
    "    return [tempsVol(i) for i in range(1, n_max+1)]\n",
    "\n",
    "print(tempsVolListe(100))\n",
    "liste_temps = tempsVolListe(10000)\n",
    "temps_max = max(liste_temps)\n",
    "print(\"l'entier\", liste_temps.index(temps_max) + 1, \"a le plus grd tps de vol égal à\", temps_max)\n",
    "\n",
    "def altMax(n):\n",
    "    return max(syracuse(n))\n",
    "def altMaxListe(n_max):\n",
    "    \"\"\"Retourne l'altitude maximale de l'entier n\"\"\"\n",
    "    return [altMax(i) for i in range(1, n_max + 1)]\n",
    "\n",
    "list_alt = altMaxListe(10000)\n",
    "altitude_max = max(list_alt)\n",
    "print(\"L'entier\", list_alt.index(altitude_max)+1,\"a la plus grde altitude max = à\", altitude_max)\n"
   ]
  },
  {
   "cell_type": "code",
   "execution_count": 2,
   "metadata": {},
   "outputs": [
    {
     "ename": "SyntaxError",
     "evalue": "invalid syntax (1545617091.py, line 3)",
     "output_type": "error",
     "traceback": [
      "\u001b[1;36m  Cell \u001b[1;32mIn [2], line 3\u001b[1;36m\u001b[0m\n\u001b[1;33m    carre_pas_mag = []\u001b[0m\n\u001b[1;37m    ^\u001b[0m\n\u001b[1;31mSyntaxError\u001b[0m\u001b[1;31m:\u001b[0m invalid syntax\n"
     ]
    }
   ],
   "source": [
    "carre_mag = [[4, 14,15,1]]"
   ]
  },
  {
   "cell_type": "code",
   "execution_count": null,
   "metadata": {},
   "outputs": [],
   "source": [
    "#solution 1\n",
    "\n",
    "carre_pas_mag = []\n",
    "for num_ligne in range(len(carre_mag)):\n",
    "    carre_pas_mag.append([])\n",
    "    for num_colonne in range(len(carre_mag[num_ligne])):\n",
    "        carre_pas_mag[num_ligne].append(carre_mag[num_ligne][num_colonne])\n",
    "\n",
    "carre_pas_mag[3][2]=7"
   ]
  },
  {
   "cell_type": "code",
   "execution_count": null,
   "metadata": {},
   "outputs": [],
   "source": [
    "#solution 2\n",
    "\n",
    "carre_pas_mag=[]\n",
    "for ligne in carre_mag:\n",
    "    carre_pas_mag.append(ligne.copy())\n",
    "\n",
    "carre_pas_mag[3][2]=7"
   ]
  },
  {
   "cell_type": "code",
   "execution_count": null,
   "metadata": {},
   "outputs": [],
   "source": [
    "#solution 3\n",
    "\n",
    "carre_pas_mag = [ligne[:] for ligne in carre_mag]\n",
    "\n",
    "carre_pas_mag[3][2]=7"
   ]
  },
  {
   "cell_type": "code",
   "execution_count": null,
   "metadata": {},
   "outputs": [],
   "source": [
    "carre_mag = [[4, 14,15,1]]\n",
    "carre_pas_mag = [ligne[:] for ligne in carre_mag]\n",
    "carre_pas_mag[3][2]=7\n"
   ]
  }
 ],
 "metadata": {
  "kernelspec": {
   "display_name": "Python 3.9.12 ('base')",
   "language": "python",
   "name": "python3"
  },
  "language_info": {
   "codemirror_mode": {
    "name": "ipython",
    "version": 3
   },
   "file_extension": ".py",
   "mimetype": "text/x-python",
   "name": "python",
   "nbconvert_exporter": "python",
   "pygments_lexer": "ipython3",
   "version": "3.9.12"
  },
  "orig_nbformat": 4,
  "vscode": {
   "interpreter": {
    "hash": "60210617e42cdaf7c08c48b31a40cc0b65e0c8957f8108380e9d272d5a5882e2"
   }
  }
 },
 "nbformat": 4,
 "nbformat_minor": 2
}
