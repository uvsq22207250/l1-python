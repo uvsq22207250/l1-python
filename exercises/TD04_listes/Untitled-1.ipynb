{
 "cells": [
  {
   "cell_type": "code",
   "execution_count": null,
   "metadata": {},
   "outputs": [],
   "source": [
    "#question 1\n",
    "a = 1\n",
    "for i in range(0,20,2):\n",
    "    if a >= 10:\n",
    "        break\n",
    "    a += i\n",
    "print(a)"
   ]
  },
  {
   "cell_type": "code",
   "execution_count": null,
   "metadata": {},
   "outputs": [],
   "source": [
    "#question 2\n",
    "print((3/2)*(2//3))"
   ]
  },
  {
   "cell_type": "code",
   "execution_count": null,
   "metadata": {},
   "outputs": [],
   "source": [
    "#question 3\n",
    "i=0\n",
    "while i <= 100:\n",
    "    print(i)"
   ]
  },
  {
   "cell_type": "code",
   "execution_count": null,
   "metadata": {},
   "outputs": [],
   "source": [
    "#question 4\n",
    "a=0\n",
    "for i in range(0,10):\n",
    "    for j in range(0,j):\n",
    "        a*=3\n",
    "print(a)"
   ]
  },
  {
   "cell_type": "code",
   "execution_count": null,
   "metadata": {},
   "outputs": [],
   "source": [
    "#question 5\n",
    "j=-2\n",
    "while j < 15:\n",
    "    j = j-2\n",
    "print(j)"
   ]
  },
  {
   "cell_type": "code",
   "execution_count": 26,
   "metadata": {},
   "outputs": [
    {
     "name": "stdout",
     "output_type": "stream",
     "text": [
      "2 8\n"
     ]
    }
   ],
   "source": [
    "#question 6\n",
    "a, b = 5, 3\n",
    "b, a = a+b, a-b\n",
    "print(a,b)"
   ]
  },
  {
   "cell_type": "code",
   "execution_count": null,
   "metadata": {},
   "outputs": [],
   "source": [
    "#question 7\n",
    "a,b = 0,0\n",
    "while a<= b:\n",
    "    if a == b:\n",
    "        b+=1\n",
    "    elif a<b:\n",
    "        a += 1\n",
    "    else:\n",
    "        pass\n",
    "print(a)"
   ]
  },
  {
   "cell_type": "code",
   "execution_count": 10,
   "metadata": {},
   "outputs": [
    {
     "name": "stdout",
     "output_type": "stream",
     "text": [
      "2\n"
     ]
    }
   ],
   "source": [
    "#question 8\n",
    "a=1\n",
    "for i in range(1,20,2):\n",
    "    if a % 2 == 0:\n",
    "        break\n",
    "    a+=i\n",
    "print(a)"
   ]
  },
  {
   "cell_type": "code",
   "execution_count": 11,
   "metadata": {},
   "outputs": [
    {
     "name": "stdout",
     "output_type": "stream",
     "text": [
      "3\n"
     ]
    }
   ],
   "source": [
    "#question 10\n",
    "x,a,b=0,5,5\n",
    "if a>0:\n",
    "    if b < 0:\n",
    "        x = x+5\n",
    "    elif a < 5:\n",
    "        x = x+5\n",
    "    else:\n",
    "        x=x+3\n",
    "else:\n",
    "    x=x+2\n",
    "print(x)"
   ]
  },
  {
   "cell_type": "code",
   "execution_count": 12,
   "metadata": {},
   "outputs": [
    {
     "ename": "KeyboardInterrupt",
     "evalue": "",
     "output_type": "error",
     "traceback": [
      "\u001b[1;31m---------------------------------------------------------------------------\u001b[0m",
      "\u001b[1;31mKeyboardInterrupt\u001b[0m                         Traceback (most recent call last)",
      "Cell \u001b[1;32mIn [12], line 5\u001b[0m\n\u001b[0;32m      3\u001b[0m i\u001b[38;5;241m=\u001b[39m\u001b[38;5;241m0\u001b[39m\n\u001b[0;32m      4\u001b[0m \u001b[38;5;28;01mwhile\u001b[39;00m (j\u001b[38;5;241m*\u001b[39m\u001b[38;5;241m*\u001b[39m\u001b[38;5;241m1\u001b[39m \u001b[38;5;241m<\u001b[39m\u001b[38;5;241m=\u001b[39m \u001b[38;5;241m50\u001b[39m):\n\u001b[1;32m----> 5\u001b[0m     i\u001b[38;5;241m+\u001b[39m\u001b[38;5;241m=\u001b[39m\u001b[38;5;241m1\u001b[39m\n\u001b[0;32m      6\u001b[0m \u001b[38;5;28mprint\u001b[39m(i\u001b[38;5;241m-\u001b[39m\u001b[38;5;241m1\u001b[39m)\n",
      "\u001b[1;31mKeyboardInterrupt\u001b[0m: "
     ]
    }
   ],
   "source": [
    "#question 11\n",
    "j=2\n",
    "i=0\n",
    "while (j**1 <= 50):\n",
    "    i+=1\n",
    "print(i-1)"
   ]
  },
  {
   "cell_type": "code",
   "execution_count": 13,
   "metadata": {},
   "outputs": [
    {
     "name": "stdout",
     "output_type": "stream",
     "text": [
      "22\n"
     ]
    }
   ],
   "source": [
    "#question 12\n",
    "a=10\n",
    "b=20\n",
    "while a<b:\n",
    "    b+=1\n",
    "    for _ in range(3):\n",
    "        a+=2\n",
    "print(a)"
   ]
  },
  {
   "cell_type": "code",
   "execution_count": 14,
   "metadata": {},
   "outputs": [
    {
     "name": "stdout",
     "output_type": "stream",
     "text": [
      "IN100\n"
     ]
    }
   ],
   "source": [
    "#Question 13\n",
    "resultat=\"\"\n",
    "for jtm in \"IN100\":\n",
    "    resultat += jtm\n",
    "print(resultat)"
   ]
  },
  {
   "cell_type": "code",
   "execution_count": 16,
   "metadata": {},
   "outputs": [
    {
     "name": "stdout",
     "output_type": "stream",
     "text": [
      "30\n"
     ]
    }
   ],
   "source": [
    "#question 14\n",
    "S=0\n",
    "for k in range(1,5):\n",
    "    S += k**2\n",
    "print(S)"
   ]
  },
  {
   "cell_type": "code",
   "execution_count": 18,
   "metadata": {},
   "outputs": [
    {
     "name": "stdout",
     "output_type": "stream",
     "text": [
      "6\n",
      "222\n",
      "33\n",
      "222\n"
     ]
    }
   ],
   "source": [
    "#Question 15\n",
    "print(str(3*int(2)))\n",
    "print(int(3)*str(2))\n",
    "print(str(3)*int(2))\n",
    "print(int(3*str(2)))"
   ]
  },
  {
   "cell_type": "code",
   "execution_count": 19,
   "metadata": {},
   "outputs": [
    {
     "name": "stdout",
     "output_type": "stream",
     "text": [
      "hellohelloworldworld\n"
     ]
    }
   ],
   "source": [
    "#Question 16\n",
    "a=\"hello\"\n",
    "for i in range(0,3):\n",
    "    if i % 3 == 0:\n",
    "        a*=2\n",
    "    else:\n",
    "        a += \"world\"\n",
    "print(a)"
   ]
  },
  {
   "cell_type": "code",
   "execution_count": 20,
   "metadata": {},
   "outputs": [
    {
     "name": "stdout",
     "output_type": "stream",
     "text": [
      "29\n"
     ]
    }
   ],
   "source": [
    "#Question 17\n",
    "var = 10\n",
    "for i in range(10):\n",
    "    for j in range(2,10,1):\n",
    "        if var%2 == 0:\n",
    "            continue\n",
    "            var+=1\n",
    "        else:\n",
    "            var+=1\n",
    "    var+=1\n",
    "print(var)"
   ]
  },
  {
   "cell_type": "code",
   "execution_count": 21,
   "metadata": {},
   "outputs": [
    {
     "name": "stdout",
     "output_type": "stream",
     "text": [
      "match nul\n"
     ]
    }
   ],
   "source": [
    "#question 18\n",
    "v=True\n",
    "if not v or v and not v:\n",
    "    print(\"victoire\")\n",
    "elif v:\n",
    "    print(\"match nul\")\n",
    "else:\n",
    "    print(\"défaite\")"
   ]
  },
  {
   "cell_type": "code",
   "execution_count": 24,
   "metadata": {},
   "outputs": [
    {
     "name": "stdout",
     "output_type": "stream",
     "text": [
      "15 22\n"
     ]
    }
   ],
   "source": [
    "#Question 19\n",
    "compteur = 1\n",
    "a=0\n",
    "while compteur < 8:\n",
    "    compteur += 1\n",
    "    a+=1\n",
    "compteur = 0\n",
    "while compteur < 6:\n",
    "    compteur+=1\n",
    "    a+=1\n",
    "while compteur < 15:\n",
    "    compteur += 1\n",
    "    a+=1\n",
    "print(\"nombre de passage :\", a)"
   ]
  },
  {
   "cell_type": "code",
   "execution_count": 25,
   "metadata": {},
   "outputs": [
    {
     "name": "stdout",
     "output_type": "stream",
     "text": [
      "Else\n",
      "Else\n",
      "break\n",
      "Else\n",
      "break\n",
      "Else\n",
      "break\n",
      "break\n"
     ]
    }
   ],
   "source": [
    "#Question 20\n",
    "for n in range(2,10):\n",
    "    for x in range(2,n):\n",
    "        if n%x == 0:\n",
    "            print(\"break\")\n",
    "            break\n",
    "    else:\n",
    "        print(\"Else\")"
   ]
  },
  {
   "cell_type": "code",
   "execution_count": 1,
   "metadata": {},
   "outputs": [
    {
     "ename": "IndexError",
     "evalue": "list index out of range",
     "output_type": "error",
     "traceback": [
      "\u001b[1;31m---------------------------------------------------------------------------\u001b[0m",
      "\u001b[1;31mIndexError\u001b[0m                                Traceback (most recent call last)",
      "Cell \u001b[1;32mIn [1], line 5\u001b[0m\n\u001b[0;32m      3\u001b[0m     \u001b[38;5;28;01mfor\u001b[39;00m i \u001b[38;5;129;01min\u001b[39;00m L:\n\u001b[0;32m      4\u001b[0m         L[i]\u001b[38;5;241m=\u001b[39mL[i]\u001b[38;5;241m/\u001b[39m\u001b[38;5;241m/\u001b[39m\u001b[38;5;241m2\u001b[39m\n\u001b[1;32m----> 5\u001b[0m \u001b[38;5;28mprint\u001b[39m(\u001b[43mdiviseliste\u001b[49m\u001b[43m(\u001b[49m\u001b[43m[\u001b[49m\u001b[38;5;241;43m15\u001b[39;49m\u001b[43m,\u001b[49m\u001b[38;5;241;43m7\u001b[39;49m\u001b[43m,\u001b[49m\u001b[38;5;241;43m89\u001b[39;49m\u001b[43m]\u001b[49m\u001b[43m)\u001b[49m)\n",
      "Cell \u001b[1;32mIn [1], line 4\u001b[0m, in \u001b[0;36mdiviseliste\u001b[1;34m(L)\u001b[0m\n\u001b[0;32m      2\u001b[0m \u001b[38;5;28;01mdef\u001b[39;00m \u001b[38;5;21mdiviseliste\u001b[39m(L):\n\u001b[0;32m      3\u001b[0m     \u001b[38;5;28;01mfor\u001b[39;00m i \u001b[38;5;129;01min\u001b[39;00m L:\n\u001b[1;32m----> 4\u001b[0m         L[i]\u001b[38;5;241m=\u001b[39m\u001b[43mL\u001b[49m\u001b[43m[\u001b[49m\u001b[43mi\u001b[49m\u001b[43m]\u001b[49m\u001b[38;5;241m/\u001b[39m\u001b[38;5;241m/\u001b[39m\u001b[38;5;241m2\u001b[39m\n",
      "\u001b[1;31mIndexError\u001b[0m: list index out of range"
     ]
    }
   ],
   "source": [
    "#Question 1 qcm2\n",
    "def diviseliste(L):\n",
    "    for i in L:\n",
    "        L[i]=L[i]//2\n",
    "print(diviseliste([15,7,89]))"
   ]
  },
  {
   "cell_type": "code",
   "execution_count": 2,
   "metadata": {},
   "outputs": [
    {
     "name": "stdout",
     "output_type": "stream",
     "text": [
      "[720, 1, 2, 24]\n"
     ]
    }
   ],
   "source": [
    "#Question 2 qcm2\n",
    "def func(x):\n",
    "    t=1\n",
    "    for i in range(2,x+1):\n",
    "        t=t*i\n",
    "    return t\n",
    "def exo(liste):\n",
    "    ll=[]\n",
    "    for i in range (len(liste)):\n",
    "        ll.append(func(liste[i]))\n",
    "    return ll\n",
    "print(exo([6,1,2,4]))\n"
   ]
  },
  {
   "cell_type": "code",
   "execution_count": 4,
   "metadata": {},
   "outputs": [
    {
     "name": "stdout",
     "output_type": "stream",
     "text": [
      "1\n"
     ]
    }
   ],
   "source": [
    "#Question 3 qcm2\n",
    "res = 1\n",
    "L = [x%5 for x in range(10)]\n",
    "for i in range(len(L)):\n",
    "    if i in L:\n",
    "        res *=1\n",
    "print(res)"
   ]
  },
  {
   "cell_type": "code",
   "execution_count": 7,
   "metadata": {},
   "outputs": [
    {
     "name": "stdout",
     "output_type": "stream",
     "text": [
      "10\n"
     ]
    }
   ],
   "source": [
    "#Question 5 qcm2\n",
    "def f(x):\n",
    "    return 3*x+1\n",
    "def g(x):\n",
    "    return 2*x-3\n",
    "print(f(g(3)))"
   ]
  },
  {
   "cell_type": "code",
   "execution_count": 8,
   "metadata": {},
   "outputs": [
    {
     "name": "stdout",
     "output_type": "stream",
     "text": [
      "30 False\n"
     ]
    }
   ],
   "source": [
    "#Question 6 qcm2\n",
    "a,b,c=5,True,False\n",
    "if(a>=30 or 12/4==3):\n",
    "    a=a+25\n",
    "else:\n",
    "    a=-a\n",
    "if(b or 12/5==2):\n",
    "    b=not(b!=c)\n",
    "print(a,b)"
   ]
  },
  {
   "cell_type": "code",
   "execution_count": 9,
   "metadata": {},
   "outputs": [
    {
     "name": "stdout",
     "output_type": "stream",
     "text": [
      "25\n"
     ]
    }
   ],
   "source": [
    "#Question 7 qcm2\n",
    "def g(n):\n",
    "    s=0\n",
    "    for i in range(1,n,2):\n",
    "        s=s+i\n",
    "    return s\n",
    "print(g(10))"
   ]
  },
  {
   "cell_type": "code",
   "execution_count": 12,
   "metadata": {},
   "outputs": [
    {
     "name": "stdout",
     "output_type": "stream",
     "text": [
      "31\n"
     ]
    }
   ],
   "source": [
    "#Question 8 qcm2\n",
    "def r(x,y):\n",
    "    while x < y:\n",
    "        x,y = x*2, y+3\n",
    "    return x+y\n",
    "print(r(4,9))"
   ]
  },
  {
   "cell_type": "code",
   "execution_count": 13,
   "metadata": {},
   "outputs": [
    {
     "name": "stdout",
     "output_type": "stream",
     "text": [
      "True\n",
      "True\n"
     ]
    }
   ],
   "source": [
    "#Question 9 qcm2\n",
    "a,b=\"a\",42\n",
    "c,d,e= True, \"d\", 23\n",
    "print (a<d and c)\n",
    "print(c or b<e)"
   ]
  },
  {
   "cell_type": "code",
   "execution_count": 14,
   "metadata": {},
   "outputs": [
    {
     "name": "stdout",
     "output_type": "stream",
     "text": [
      "i\n"
     ]
    }
   ],
   "source": [
    "#Question 10 qcm2\n",
    "l=[\"Bonjour\", \"bonsoir\"]\n",
    "print(l[1][5])"
   ]
  },
  {
   "cell_type": "code",
   "execution_count": 15,
   "metadata": {},
   "outputs": [
    {
     "name": "stdout",
     "output_type": "stream",
     "text": [
      "20\n"
     ]
    }
   ],
   "source": [
    "#Question 11 qcm2\n",
    "jtm=[]\n",
    "k=0\n",
    "while k<5:\n",
    "    jtm.append(k*5)\n",
    "    jtm.sort()\n",
    "    k=k+1\n",
    "print(jtm[-1])"
   ]
  },
  {
   "cell_type": "code",
   "execution_count": 16,
   "metadata": {},
   "outputs": [
    {
     "name": "stdout",
     "output_type": "stream",
     "text": [
      "bonjour\n",
      "bonjour\n",
      "bonjour\n",
      "bonjour\n",
      "bonjour\n",
      "bonjour\n",
      "bonjour\n",
      "bonjour\n",
      "bonjour\n",
      "bonjour\n",
      "14\n"
     ]
    }
   ],
   "source": [
    "#Question 12 qcm2\n",
    "def temp(i):\n",
    "    while(i<4):\n",
    "        print(\"bonjour\")\n",
    "        i+=1\n",
    "    return 2*i\n",
    "i, j = 0, 0\n",
    "while(i<7):\n",
    "    temp(i)\n",
    "    i+=1\n",
    "print (temp(i))"
   ]
  },
  {
   "cell_type": "code",
   "execution_count": 17,
   "metadata": {},
   "outputs": [
    {
     "name": "stdout",
     "output_type": "stream",
     "text": [
      "5\n"
     ]
    }
   ],
   "source": [
    "#Question 13 qcm2\n",
    "cpt = 1\n",
    "def f():\n",
    "    global cpt\n",
    "    L=[3,6,1,2]\n",
    "    for e in L:\n",
    "        cpt += 1\n",
    "f()\n",
    "print(cpt)"
   ]
  },
  {
   "cell_type": "code",
   "execution_count": 18,
   "metadata": {},
   "outputs": [
    {
     "name": "stdout",
     "output_type": "stream",
     "text": [
      "4\n"
     ]
    }
   ],
   "source": [
    "#Question 15 qcm2\n",
    "l=[2,3,2,4]\n",
    "l.remove(2)\n",
    "print(l[2])"
   ]
  },
  {
   "cell_type": "code",
   "execution_count": 20,
   "metadata": {},
   "outputs": [
    {
     "ename": "TypeError",
     "evalue": "'int' object is not iterable",
     "output_type": "error",
     "traceback": [
      "\u001b[1;31m---------------------------------------------------------------------------\u001b[0m",
      "\u001b[1;31mTypeError\u001b[0m                                 Traceback (most recent call last)",
      "Cell \u001b[1;32mIn [20], line 4\u001b[0m\n\u001b[0;32m      2\u001b[0m l1\u001b[38;5;241m=\u001b[39m[\u001b[38;5;241m1\u001b[39m,\u001b[38;5;241m2\u001b[39m,\u001b[38;5;241m4\u001b[39m,\u001b[38;5;241m4\u001b[39m,\u001b[38;5;241m5\u001b[39m,\u001b[38;5;241m6\u001b[39m]\n\u001b[0;32m      3\u001b[0m l2\u001b[38;5;241m=\u001b[39m[e\u001b[38;5;241m*\u001b[39m\u001b[38;5;241m*\u001b[39m\u001b[38;5;241m2\u001b[39m \u001b[38;5;28;01mfor\u001b[39;00m e \u001b[38;5;129;01min\u001b[39;00m l1]\n\u001b[1;32m----> 4\u001b[0m \u001b[43ml2\u001b[49m\u001b[38;5;241;43m.\u001b[39;49m\u001b[43mextend\u001b[49m\u001b[43m(\u001b[49m\u001b[43ml1\u001b[49m\u001b[43m[\u001b[49m\u001b[38;5;28;43mlen\u001b[39;49m\u001b[43m(\u001b[49m\u001b[43ml2\u001b[49m\u001b[43m)\u001b[49m\u001b[38;5;241;43m/\u001b[39;49m\u001b[38;5;241;43m/\u001b[39;49m\u001b[38;5;241;43m2\u001b[39;49m\u001b[43m]\u001b[49m\u001b[43m)\u001b[49m\n",
      "\u001b[1;31mTypeError\u001b[0m: 'int' object is not iterable"
     ]
    }
   ],
   "source": [
    "#Question 16 qcm2\n",
    "l1=[1,2,4,4,5,6]\n",
    "l2=[e**2 for e in l1]\n",
    "l2.extend(l1[len(l2)//2])"
   ]
  },
  {
   "cell_type": "code",
   "execution_count": 22,
   "metadata": {},
   "outputs": [
    {
     "name": "stdout",
     "output_type": "stream",
     "text": [
      "[1, 4, 7]\n"
     ]
    }
   ],
   "source": [
    "#Question 17 qcm2\n",
    "A = [[1,2,3], [4,5,6], [7,8,9]]\n",
    "B = [[0,0,0], [0,0,0], [0,0,0]]\n",
    "for i in range(len(A)):\n",
    "    for j in range (len(A[i])):\n",
    "        B[i][j]=A[j][i]\n",
    "print(B[0])"
   ]
  },
  {
   "cell_type": "code",
   "execution_count": 23,
   "metadata": {},
   "outputs": [
    {
     "name": "stdout",
     "output_type": "stream",
     "text": [
      "6\n"
     ]
    }
   ],
   "source": [
    "#Question 18 qcm2\n",
    "m=[]\n",
    "for i in range(10):\n",
    "    m.append([3*x for x in range (i)])\n",
    "print(m[4][2])"
   ]
  },
  {
   "cell_type": "code",
   "execution_count": 25,
   "metadata": {},
   "outputs": [
    {
     "name": "stdout",
     "output_type": "stream",
     "text": [
      "16\n"
     ]
    }
   ],
   "source": [
    "#Question 19 qcm2\n",
    "def f (liste):\n",
    "    c=1\n",
    "    for x in liste :\n",
    "        c = c*2\n",
    "    print(c)\n",
    "f([1,2,3,4])"
   ]
  },
  {
   "cell_type": "code",
   "execution_count": 27,
   "metadata": {},
   "outputs": [
    {
     "ename": "TypeError",
     "evalue": "'function' object is not subscriptable",
     "output_type": "error",
     "traceback": [
      "\u001b[1;31m---------------------------------------------------------------------------\u001b[0m",
      "\u001b[1;31mTypeError\u001b[0m                                 Traceback (most recent call last)",
      "Cell \u001b[1;32mIn [27], line 8\u001b[0m\n\u001b[0;32m      6\u001b[0m         L[cpt] \u001b[38;5;241m+\u001b[39m\u001b[38;5;241m=\u001b[39m \u001b[38;5;241m2\u001b[39m\n\u001b[0;32m      7\u001b[0m         \u001b[38;5;28;01mreturn\u001b[39;00m L\n\u001b[1;32m----> 8\u001b[0m \u001b[38;5;28mprint\u001b[39m(\u001b[43mf\u001b[49m\u001b[43m[\u001b[49m\u001b[38;5;241;43m1\u001b[39;49m\u001b[43m,\u001b[49m\u001b[38;5;241;43m2\u001b[39;49m\u001b[43m,\u001b[49m\u001b[38;5;241;43m3\u001b[39;49m\u001b[43m,\u001b[49m\u001b[38;5;241;43m4\u001b[39;49m\u001b[43m]\u001b[49m)\n",
      "\u001b[1;31mTypeError\u001b[0m: 'function' object is not subscriptable"
     ]
    }
   ],
   "source": [
    "#Question 20 qcm2\n",
    "def f(L):\n",
    "    cpt=0\n",
    "    for i in range(len(L)):\n",
    "        cpt += 1\n",
    "        L[cpt] += 2\n",
    "        return L\n",
    "print(f[1,2,3,4])"
   ]
  },
  {
   "cell_type": "code",
   "execution_count": null,
   "metadata": {},
   "outputs": [],
   "source": []
  }
 ],
 "metadata": {
  "kernelspec": {
   "display_name": "Python 3.9.12 ('base')",
   "language": "python",
   "name": "python3"
  },
  "language_info": {
   "codemirror_mode": {
    "name": "ipython",
    "version": 3
   },
   "file_extension": ".py",
   "mimetype": "text/x-python",
   "name": "python",
   "nbconvert_exporter": "python",
   "pygments_lexer": "ipython3",
   "version": "3.9.12"
  },
  "orig_nbformat": 4,
  "vscode": {
   "interpreter": {
    "hash": "60210617e42cdaf7c08c48b31a40cc0b65e0c8957f8108380e9d272d5a5882e2"
   }
  }
 },
 "nbformat": 4,
 "nbformat_minor": 2
}
