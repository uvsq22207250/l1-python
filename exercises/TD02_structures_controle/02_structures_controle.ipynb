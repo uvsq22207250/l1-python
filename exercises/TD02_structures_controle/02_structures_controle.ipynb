{
 "cells": [
  {
   "cell_type": "markdown",
   "metadata": {
    "slideshow": {
     "slide_type": "slide"
    }
   },
   "source": [
    "# TD 2: Les structures de contrôle\n",
    "\n",
    "---\n",
    "\n",
    "## 0. Récupération des nouveaux documents\n",
    "\n",
    "\n",
    "Les sujets de TD ainsi que les supports de cours sont publiés en ligne au fur et à mesure sur l'espace github original [https://github.com/uvsq-info/l1-python](https://github.com/uvsq-info/l1-python). Au moment où vous avez fait le fork de cet espace sur votre espace personnel, il est probable que tous les contenus n'étaient pas présents. Pour compléter votre espace, deux solutions sont possibles:\n",
    "\n",
    "\n",
    "1. (solution à privilégier) aller sur la page du projet original [https://github.com/uvsq-info/l1-python](https://github.com/uvsq-info/l1-python), et cliquer sur le bouton vert `Code` en haut à droite. Choisir `download ZIP`, puis extraire l'ensemble des nouveaux fichiers vers votre projet personnel local. Vous pouvez ensuite sauvegarder ces ajouts dans votre espace github personnel en suivant la procédure habituelle.\n",
    "2. (solution qui présente des risques de conflits entre différentes versions d'un même document) en ligne de commande dans le terminal, en suivant la procédure de la section *Intégrer les mises à jour du projet original* du fichier [README.md](https://github.com/uvsq-info/l1-python/blob/master/README.md#int%C3%A9grer-les-mises-%C3%A0-jour-du-projet-original)\n"
   ]
  },
  {
   "cell_type": "markdown",
   "metadata": {
    "slideshow": {
     "slide_type": "slide"
    }
   },
   "source": [
    "---\n",
    "\n",
    "## 1. Premiers exercices avec les structures conditionnelles\n",
    "\n",
    "**Exercice 1:**\n",
    "\n",
    "1. Soit *num1 = 15* et *num2 = 5*. Ecrire un programme qui affiche *Factors!* si l'un des nombres est un facteur de l'autre (c'est-à-dire qu'il divise l'autre nombre). Si aucun des nombres n'est un facteur de l'autre, le programme n'affiche rien.\n",
    "2. Changer le code que vous avez écrit de telle sorte qu'il affiche toujours *Factors!* si un nombre est un facteur de l'autre, mais qui affiche aussi *Not factors!* si aucun des nombres n'est un facteur de l'autre."
   ]
  },
  {
   "cell_type": "code",
   "execution_count": 30,
   "metadata": {
    "slideshow": {
     "slide_type": "notes"
    }
   },
   "outputs": [
    {
     "name": "stdout",
     "output_type": "stream",
     "text": [
      "not factors.\n"
     ]
    }
   ],
   "source": [
    "num1, num2=-2.5, 9\n",
    "if num1%num2==0 or num2%num1==0:\n",
    "    print(\"factors!\")\n",
    "else:\n",
    "    print(\"not factors.\")\n"
   ]
  },
  {
   "cell_type": "markdown",
   "metadata": {
    "slideshow": {
     "slide_type": "slide"
    }
   },
   "source": [
    "**Exercice 2:**\n",
    "    \n",
    "Soit *state = \"Georgia\"*. Ecrire un programme qui permet d'afficher un message spécifique en fonction de la variable *state* :  \n",
    "* \"School isn't cancelled.\" si nous sommes à New Jersey,  \n",
    "* \"School is postponed.\" si nous sommes à North Carolina,\n",
    "* \"School is cancelled!\" si nous sommes à Georgia,  \n",
    "* \"School's status is unknown\" si nous ne sommes pas dans un des trois états précédemment mentionnés."
   ]
  },
  {
   "cell_type": "code",
   "execution_count": 18,
   "metadata": {
    "slideshow": {
     "slide_type": "notes"
    }
   },
   "outputs": [
    {
     "name": "stdout",
     "output_type": "stream",
     "text": [
      "School is cancelled\n"
     ]
    }
   ],
   "source": [
    "state=\"Georgia\"\n",
    "if state==\"New Jersey\":\n",
    "    print(\"School isn't cancelled\")\n",
    "elif state==\"North Carolina\":\n",
    "    print(\"School is postponed.\")\n",
    "elif state==\"Georgia\":\n",
    "    print(\"School is cancelled\")\n",
    "else:\n",
    "    print(\"School's status is unknown\")"
   ]
  },
  {
   "cell_type": "markdown",
   "metadata": {
    "slideshow": {
     "slide_type": "slide"
    }
   },
   "source": [
    "**Exercice 3:**\n",
    "\n",
    "Ecrire un programme pour découvrir le signe du zodiaque chinois pour une année donnée. Le signe du zodiaque chinois est basé sur un cycle de 12 ans et chaque année de ce cycle est représentée par un animal :\n",
    "* 0: monkey\n",
    "* 1: rooster\n",
    "* 2: dog\n",
    "* 3: pig\n",
    "* 4: rat\n",
    "* 5: ox\n",
    "* 6: tiger\n",
    "* 7: rabbit\n",
    "* 8: dragon\n",
    "* 9: snake\n",
    "* 10: horse\n",
    "* 11: sheep\n",
    "\n",
    "La valeur de l'année % 12 détermine le signe du zodiaque. Par exemple, 1900 est l'année du *rat* puisque 1900 % 12 est 4."
   ]
  },
  {
   "cell_type": "code",
   "execution_count": 31,
   "metadata": {
    "slideshow": {
     "slide_type": "notes"
    }
   },
   "outputs": [
    {
     "name": "stdout",
     "output_type": "stream",
     "text": [
      "Rat\n",
      "fin\n"
     ]
    }
   ],
   "source": [
    "annee=int(input(\"saisir une année \"))\n",
    "animal=annee%12\n",
    "if animal==0:\n",
    "    print(\"Monkey\")\n",
    "elif animal==1:\n",
    "    print(\"Rooster\")\n",
    "elif animal==2:\n",
    "    print(\"Dog\")\n",
    "elif animal==3:\n",
    "    print(\"Pig\")\n",
    "elif animal==4:\n",
    "    print(\"Rat\")\n",
    "elif animal==5:\n",
    "    print(\"Ox\")\n",
    "elif animal==6:\n",
    "    print(\"Tiger\")\n",
    "elif animal==7:\n",
    "    print(\"Rabbit\")\n",
    "elif animal==8:\n",
    "    print(\"Dragon\")\n",
    "elif animal==9:\n",
    "    print(\"Snake\")\n",
    "elif animal==10:\n",
    "    print(\"Horse\")\n",
    "elif animal==11:\n",
    "    print(\"Sheep\")\n",
    "else:\n",
    "    print(\"error\")\n",
    "print(\"fin\")\n"
   ]
  },
  {
   "cell_type": "markdown",
   "metadata": {
    "slideshow": {
     "slide_type": "slide"
    }
   },
   "source": [
    "**Exercice 4:**\n",
    "\n",
    "Soit *temperature = -3.7* et *celsius = True*. *celsius* est une variable booléenne qui indique si la température est en Celsius; si c'est *False*, alors la température donnée est en Fahrenheit. Ecrire un premier programme en utilisant *if-else* seulement qui permet d'afficher *Freezing* si les valeurs données représentent une température très basse, et *Not freezing* si ce n'est pas le cas. En Celsius, on considère qu'il fait très froid lorsque la température est inférieure ou égale à 0 degré. En Fahrenheit, on considère qu'il fait très froid lorsque la température est inférieure ou égale à 32 degrés. Proposer une seconde solution en utilisant *if-elif-else* à ce même problème."
   ]
  },
  {
   "cell_type": "code",
   "execution_count": 2,
   "metadata": {
    "slideshow": {
     "slide_type": "notes"
    }
   },
   "outputs": [
    {
     "name": "stdout",
     "output_type": "stream",
     "text": [
      "Freezing\n"
     ]
    }
   ],
   "source": [
    "temperature=-3.7\n",
    "celsius=False\n",
    "if celsius and temperature <= 0 or not celsius and temperature <= 32:\n",
    "    print(\"Freezing\")\n",
    "else:\n",
    "    print(\"Not freezing\")"
   ]
  },
  {
   "cell_type": "markdown",
   "metadata": {
    "slideshow": {
     "slide_type": "slide"
    }
   },
   "source": [
    "**Exercice 5:**\n",
    "    \n",
    "Ecrire un programme qui permet de déterminer si une année est bissextile ou non en utilisant une seule instruction *if-else*. Une année *A* est bissextile si *A* est divisible par 4. Elle ne l’est cependant pas si *A* est un multiple\n",
    "de 100, à moins que *A* ne soit multiple de 400.    "
   ]
  },
  {
   "cell_type": "code",
   "execution_count": 37,
   "metadata": {
    "slideshow": {
     "slide_type": "notes"
    }
   },
   "outputs": [
    {
     "name": "stdout",
     "output_type": "stream",
     "text": [
      "L'année n'est pas bissextile\n"
     ]
    }
   ],
   "source": [
    "A=int(input(\"Rentre une année\"))\n",
    "if A%4==0 and A % 100 != 0 or A % 100 == 0:\n",
    "    print(\"L'année est bissextile\")\n",
    "else:\n",
    "    print(\"L'année n'est pas bissextile\")"
   ]
  },
  {
   "cell_type": "markdown",
   "metadata": {},
   "source": [
    "---\n",
    "\n",
    "## 2. Premiers exercices avec les structures itératives\n",
    "\n",
    "**Exercice 6:**\n",
    "\n",
    "1. Ecrire un programme qui permet d'afficher tous les nombres entre 1 et 10 (bornes incluses).\n",
    "2. Ecrire un programme se limitant à la boucle *for* qui permet d'afficher tous les nombres pairs entre 1 et 20 (bornes incluses). Proposer une deuxième solution en incluant une structure conditionnelle."
   ]
  },
  {
   "cell_type": "code",
   "execution_count": 3,
   "metadata": {},
   "outputs": [
    {
     "name": "stdout",
     "output_type": "stream",
     "text": [
      "2\n",
      "4\n",
      "6\n",
      "8\n",
      "10\n",
      "12\n",
      "14\n",
      "16\n",
      "18\n",
      "20\n"
     ]
    }
   ],
   "source": [
    "#correction 2.1\n",
    "for i in range(1,21):\n",
    "    if i % 2 == 0 :\n",
    "        print(i)"
   ]
  },
  {
   "cell_type": "code",
   "execution_count": 1,
   "metadata": {},
   "outputs": [
    {
     "name": "stdout",
     "output_type": "stream",
     "text": [
      "1\n",
      "2\n",
      "3\n",
      "4\n",
      "5\n",
      "6\n",
      "7\n",
      "8\n",
      "9\n",
      "10\n",
      "range(10, 30, 4)\n"
     ]
    }
   ],
   "source": [
    "#correction 1.1\n",
    "for i in range(1,11):\n",
    "    print(i)\n",
    "\n",
    "a = 10\n",
    "b=30\n",
    "c=4\n",
    "\n",
    "print(range(a,b,c))"
   ]
  },
  {
   "cell_type": "code",
   "execution_count": 4,
   "metadata": {},
   "outputs": [
    {
     "name": "stdout",
     "output_type": "stream",
     "text": [
      "1\n",
      "2\n",
      "3\n",
      "4\n",
      "5\n",
      "6\n",
      "7\n",
      "8\n",
      "9\n",
      "10\n",
      "terminé\n"
     ]
    }
   ],
   "source": [
    "a=1\n",
    "for a in range(1, 11):\n",
    "    print(a)\n",
    "print(\"terminé\")"
   ]
  },
  {
   "cell_type": "markdown",
   "metadata": {},
   "source": [
    "**Exercice 7:**\n",
    "    \n",
    "1. Ecrire un programme qui demande à l'utilisateur de saisir *n* nombres, *n* étant choisi par l'utilisateur, puis d'afficher la moyenne de ces nombres.\n",
    "\n",
    "2. Même question, mais l'utilisateur ne choisit pas à l'avance le nombre *n*, la procédure s'arrête quand il saisit le nombre -1.\n"
   ]
  },
  {
   "cell_type": "code",
   "execution_count": 2,
   "metadata": {},
   "outputs": [
    {
     "name": "stdout",
     "output_type": "stream",
     "text": [
      "la moyenne est de 6.0\n"
     ]
    }
   ],
   "source": [
    "quantite = int(input(\"Combien de nbs voulez-vous rentrer ?\"))\n",
    "somme=0\n",
    "for i in range(quantite):\n",
    "    nombre = int(input(\"Rentrer le nombre numéro\"+str(1)))\n",
    "    somme += nombre\n",
    "print (\"la moyenne est de\", somme/quantite)"
   ]
  },
  {
   "cell_type": "code",
   "execution_count": 5,
   "metadata": {},
   "outputs": [
    {
     "name": "stdout",
     "output_type": "stream",
     "text": [
      "la somme de 2 de nombre est 18.5\n"
     ]
    }
   ],
   "source": [
    "#correction 2.1\n",
    "somme=0\n",
    "quantite = 0\n",
    "nombre_saisie=0\n",
    "while nombre_saisie != -1 :\n",
    "    nombre_saisie = int(input(\"Saisissez un nb\"))\n",
    "    if nombre_saisie != -1 :\n",
    "         somme += nombre_saisie\n",
    "         quantite += 1\n",
    "print(\"la somme de\", quantite, \"de nombre est\",somme/quantite)"
   ]
  },
  {
   "cell_type": "code",
   "execution_count": 8,
   "metadata": {},
   "outputs": [
    {
     "name": "stdout",
     "output_type": "stream",
     "text": [
      "la somme de 2 nombres est 2.5\n"
     ]
    }
   ],
   "source": [
    "#correction 2.2\n",
    "somme = 0\n",
    "quantite = 0\n",
    "nombre_saisie = 0\n",
    "while True :\n",
    "    nombre_saisie = int(input(\"Saisissez un nb\"))\n",
    "    if nombre_saisie == -1 :\n",
    "        break\n",
    "    somme += nombre_saisie\n",
    "    quantite += 1\n",
    "print(\"la somme de\", quantite, \"nombres est\", somme / quantite)\n",
    "       "
   ]
  },
  {
   "cell_type": "markdown",
   "metadata": {},
   "source": [
    "**Exercice 8:**\n",
    "\n",
    "Ecrire un programme qui permet de calculer le factoriel d'un nombre positif donné par l'utlisateur selon la formule suivante : \n",
    "n! = 1 x 2 x ... x n.  \n",
    "\n",
    "1. Une première version en utilisant la boucle *for*\n",
    "2. Une seconde version en utilisant la boucle *while*"
   ]
  },
  {
   "cell_type": "code",
   "execution_count": 4,
   "metadata": {},
   "outputs": [
    {
     "name": "stdout",
     "output_type": "stream",
     "text": [
      "Factorielle 1 est égal à 1\n"
     ]
    }
   ],
   "source": [
    "#correction 1\n",
    "nombre = int(input(\"donnez un nb\"))\n",
    "if nombre < 0:\n",
    "    print(\"Mauvais nombre\")\n",
    "else :\n",
    "    resultat=1\n",
    "    for i in range(1, nombre +1):\n",
    "        resultat *= 1\n",
    "    print(\"Factorielle\", nombre, \"est égal à\", resultat)"
   ]
  },
  {
   "cell_type": "code",
   "execution_count": 3,
   "metadata": {},
   "outputs": [
    {
     "name": "stdout",
     "output_type": "stream",
     "text": [
      "1x 1 -> 1\n",
      "1x 2 -> 2\n",
      "2x 3 -> 6\n",
      "6x 4 -> 24\n",
      "24x 5 -> 120\n",
      "Factorielle 5 est égal à 120\n"
     ]
    }
   ],
   "source": [
    "#correction 2\n",
    "nombre = int(input(\"donnez un nb\"))\n",
    "if nombre < 0:\n",
    "    print(\"Mauvais nombre\")\n",
    "else :\n",
    "    resultat = 1\n",
    "    i=1\n",
    "    while i <= nombre:\n",
    "        print(resultat,end=\"\")\n",
    "        resultat *= i\n",
    "        print(\"x\",i,'->',resultat)\n",
    "        i += 1\n",
    "    print(\"Factorielle\", nombre, \"est égal à\", resultat)"
   ]
  },
  {
   "cell_type": "markdown",
   "metadata": {},
   "source": [
    "---\n",
    "\n",
    "## 3. Pour aller plus loin\n",
    "\n",
    "**Excercice 9:**\n",
    "\n",
    "Ecrire un programme qui permet de connaître le jour de naissance de l'utilisateur en posant cinq questions. Chaque question demande si le jour est dans l'un des cinq ensembles suivants :\n",
    "\n",
    "•\tSet 1: [1 3 5 7 9 11 13 15 17 19 21 23 25 27 29 31]\n",
    "\n",
    "•\tSet 2: [2 3 6 7 10 11 14 15 18 19 22 23 26 27 30 31]\n",
    "\n",
    "•\tSet 3: [4 5 6 7 12 13 14 15 20 21 22 23 28 29 30 31]\n",
    "\n",
    "•\tSet 4: [8 9 10 11 12 13 14 15 24 25 26 27 28 29 30 31]\n",
    "\n",
    "•\tSet 5: [16 17 18 19 20 21 22 23 24 25 26 27 28 29 30 31]\n",
    "\n",
    "Le jour de naissance est la somme des premiers nombres dans les ensembles où le jour apparaît. Par exemple, si le jour de naissance est 19, il apparaît dans Set 1, Set 2 et Set 5. Les premiers chiffres de ces trois ensembles sont 1, 2 et 16. Leur somme est 19."
   ]
  },
  {
   "cell_type": "code",
   "execution_count": null,
   "metadata": {},
   "outputs": [],
   "source": []
  },
  {
   "cell_type": "markdown",
   "metadata": {},
   "source": [
    "**Excercice 10:**\n",
    "\n",
    "Ecrire un programme qui permet de génèrer de manière aléatoire un nombre à deux chiffres, invite l'utilisateur à saisir un nombre à deux chiffres et détermine si l'utilisateur gagne selon les règles suivantes :\n",
    "\n",
    "•\tSi l'entrée de l'utilisateur correspond à la loterie (le nombre généré aléatoirement) dans l'ordre exact, la récompense est de 10 000€.\n",
    "\n",
    "•\tSinon, si les deux chiffres entrés par l'utilisateur correspondent aux deux chiffres du numéro de loterie, la récompense est de 3 000€.\n",
    "\n",
    "•\tSinon, si un chiffre dans l'entrée de l'utilisateur correspond à un chiffre dans \n",
    "le numéro de loterie, la récompense est de 1 000€.\n",
    "\n",
    "Astuce : Utiliser la fonction random.randint(0, 99) pour génèrer de manière aléatoire un nombre à deux chiffres. Cette fonction doit être accompagné par import random comme première instruction dans le code.\n"
   ]
  },
  {
   "cell_type": "code",
   "execution_count": null,
   "metadata": {},
   "outputs": [],
   "source": []
  },
  {
   "cell_type": "markdown",
   "metadata": {},
   "source": [
    "**Exercice 11:**\n",
    "\n",
    "Ecrire un programme qui permet de calculer la somme des chiffres d'un entier n donné. Le nombre n doit être compris entre 10 et 20 (bornes incluses)."
   ]
  },
  {
   "cell_type": "code",
   "execution_count": 5,
   "metadata": {},
   "outputs": [
    {
     "name": "stdout",
     "output_type": "stream",
     "text": [
      "la somme des chiffres est 5\n"
     ]
    }
   ],
   "source": [
    "#1.1\n",
    "nombre = int(input(\"Donnez un nb entre 10 et 20\"))\n",
    "if nombre < 10 or nombre > 20:\n",
    "    print(\"mauvais nb\")\n",
    "else:\n",
    "    somme = nombre % 10\n",
    "    nombre = nombre // 10\n",
    "    somme += nombre\n",
    "    print (\"la somme des chiffres est\", somme)"
   ]
  },
  {
   "cell_type": "code",
   "execution_count": null,
   "metadata": {},
   "outputs": [],
   "source": [
    "#1.2"
   ]
  },
  {
   "cell_type": "markdown",
   "metadata": {},
   "source": [
    "**Exercice 12:**\n",
    "\n",
    "1. Ecrire un programme qui permet de générer aléatoirement deux nombres entre 0 et 9, de calculer leurs différences (en valeur absolue), puis d'inviter l'utilisateur à répondre à la question suivante *que vaut abs(number1 - number2)?*. Le programme doit permettre à l'utilisateur de répondre plusieurs fois jusqu'à la saisie de la bonne réponse.\n",
    "2. Modifier le programme précédent de telle sorte qu'il génère cinq occurences à la suite invitant à répondre à la question précédente. A la fin, le programme affiche le nombre moyen de tentatives qu'il a fallu à l'utilisateur pour répondre à une question."
   ]
  },
  {
   "cell_type": "code",
   "execution_count": 63,
   "metadata": {
    "tags": []
   },
   "outputs": [
    {
     "name": "stdout",
     "output_type": "stream",
     "text": [
      "Bravo tu as trouvé !\n"
     ]
    }
   ],
   "source": [
    "# question 12.1\n",
    "import random\n",
    "\n",
    "nb_1 = random.randint(0,9)\n",
    "nb_2 = random.randint(0,9)\n",
    "resultat = nb_1-nb_2\n",
    "rep_user=int(input(\"Que vaut nombre 1 - nombre 2\"))\n",
    "while rep_user!=resultat:\n",
    "    rep_user=int(input(\"Mauvais nombre. Essaye encore :\"))\n",
    "print(\"Bravo tu as trouvé !\")"
   ]
  },
  {
   "cell_type": "code",
   "execution_count": null,
   "metadata": {},
   "outputs": [],
   "source": [
    "#correction\n",
    "nombre = int(input(\"donnez un nb\"))\n",
    "if nombre < 0:\n",
    "    print(\"mauvais nb\")\n",
    "else:\n",
    "    resultat = 1\n",
    "    i=1\n",
    "    while i <= nombre :"
   ]
  },
  {
   "cell_type": "code",
   "execution_count": 9,
   "metadata": {
    "tags": []
   },
   "outputs": [
    {
     "name": "stdout",
     "output_type": "stream",
     "text": [
      "Bravo tu as trouvé !\n",
      "Bravo tu as trouvé !\n",
      "Bravo tu as trouvé !\n",
      "Bravo tu as trouvé !\n",
      "Bravo tu as trouvé !\n",
      "Tu as fait 5 parties\n",
      "Tu as réussit en 13 essais\n"
     ]
    }
   ],
   "source": [
    "# question 12.2\n",
    "import random\n",
    "\n",
    "nb_partie=0\n",
    "nb_essai=0\n",
    "fin_partie=True\n",
    "rep_user=int(input(\"Que vaut le nombre 1 - nombre 2 ?\"))\n",
    "while nb_partie!=5:\n",
    "    if fin_partie==True:\n",
    "        print(\"Bravo tu as trouvé !\")\n",
    "        nb_1, nb_2 = random.randint(0,2), random.randint(0,2)\n",
    "        resultat = nb_1-nb_2\n",
    "        rep_user=int(input(\"Que vaut le nombre 1 - nombre 2 ?\"))\n",
    "        fin_partie=False\n",
    "    else:\n",
    "        if resultat!=rep_user:\n",
    "            rep_user=int(input(\"Mauvais nombre. Essaye encore :\"))\n",
    "            nb_essai+=1\n",
    "        elif resultat == rep_user:\n",
    "           nb_essai+=1\n",
    "           nb_partie+=1\n",
    "           fin_partie=True\n",
    "print(\"Tu as fait\",nb_partie,\"parties\")\n",
    "print(\"Tu as réussit en\", nb_essai, \"essais\")"
   ]
  },
  {
   "cell_type": "markdown",
   "metadata": {},
   "source": [
    "**Exercice 13:**\n",
    "\n",
    "Ecrire un programme qui permet de calculer le nombre de mots dans une phrase saisie par l'utilisateur."
   ]
  },
  {
   "cell_type": "code",
   "execution_count": null,
   "metadata": {
    "tags": []
   },
   "outputs": [],
   "source": []
  },
  {
   "cell_type": "markdown",
   "metadata": {
    "slideshow": {
     "slide_type": "slide"
    }
   },
   "source": [
    "---\n",
    "\n",
    "## 4. Pour s'entraîner\n",
    "\n",
    "**Exercice 14:**\n",
    "    \n",
    "Soit la variable my_input = \"zoophysiology\". Ecrire un script qui permet d'afficher l'un des messages suivants en fonction du nombre maximum de *o* consécutifs dans la variable *my_input*. Par exemple, le script doit afficher \"I like studying birds! I want to become an ornithologist!\" parce qu'il y a deux *o* consécutifs, même s'il y a aussi des *o* individual.\n",
    "Ignorer les *o* majuscules - recherchez que les *o* minuscules.\n",
    "\n",
    "* Si \"o\" apparaît trois fois ou plus de suite, afficher le message \"I like going to the zoo!\"  \n",
    "* Si \"o\" apparaît deux fois, afficher le message \"I like studying birds! I want to become an ornithologist!\"  \n",
    "* Si \"o\" apparaît une seule fois, afficher le message \"I like studying fish! I want to become an ichthyologist!\"  \n",
    "* Si \"o\" n'apparaît pas dans la variable *my_input*, afficher le message \"I miss going to the zoo!\"  \n",
    "\n",
    "**Astuce :** Utiliser l'opérateur **in** qui renvoie **True** si la première chaîne se trouve dans la deuxième chaîne. "
   ]
  },
  {
   "cell_type": "code",
   "execution_count": 19,
   "metadata": {
    "slideshow": {
     "slide_type": "notes"
    }
   },
   "outputs": [
    {
     "name": "stdout",
     "output_type": "stream",
     "text": [
      "I miss going to the zoo!\n"
     ]
    }
   ],
   "source": [
    "my_input = \"zoophysiology\"\n",
    "if \"ooo\" in my_input:\n",
    "    print(\"I like doing to the zoo\")\n",
    "elif \"oo\" in my_input:\n",
    "    print(\"I like studying birds! I want to become an ornithologist!\")\n",
    "elif \"o\" in my_input:\n",
    "    print(\"I like studying fish! I want to become an ichthyologist!\")\n",
    "else:\n",
    "    print(\"I miss going to the zoo!\")"
   ]
  },
  {
   "cell_type": "markdown",
   "metadata": {
    "slideshow": {
     "slide_type": "slide"
    }
   },
   "source": [
    "**Exercice 15:**\n",
    "    \n",
    "Créer quatre variables nommées *team_1* et *team_2*, représentant deux noms d'équipes, et *team_1_score* et *team_2_score*, représentant les scores de ces deux équipes. \n",
    "Une équipe gagne si son score est supérieur à l'autre score de l'autre équipe.\n",
    " \n",
    "Ecrire un premier script qui permet d'afficher les messages suivants selon les valeurs entrées, ceci en utilisant seulement les quatres variables créées :\n",
    "* Si une équipe bat l'autre, affichez: \"\\[winner\\] beat \\[loser\\] by \\[margin\\]\"\n",
    "* Si aucune des équipes n'a gagné, affichez: \"\\[team_1\\] played \\[team_2\\] and it was a tie\"\n",
    "\n",
    "Ecrire un deuxième script qui permet d'afficher les mêmes messages mais en ajoutant trois variables de plus :\n",
    "* La variable *winner* pour définir l'équipe gagnante  \n",
    "* La variable *loser* pour définier l'équipe perdante  \n",
    "* La variable *margin* pour définir la différence entre les deux scores \n"
   ]
  },
  {
   "cell_type": "code",
   "execution_count": 23,
   "metadata": {
    "slideshow": {
     "slide_type": "notes"
    }
   },
   "outputs": [
    {
     "name": "stdout",
     "output_type": "stream",
     "text": [
      "Bêta beat Alpha by 0 / -1\n"
     ]
    }
   ],
   "source": [
    "team_1, team_2=\"Alpha\", \"Bêta\"\n",
    "t1score,t2score=0,0\n",
    "if t1score<t2score:\n",
    "    print( team_2 ,\"beat\", team_1, \"by\", t2score,\"/\",t1score)\n",
    "elif t1score>t2score:\n",
    "    print( team_1 ,\"beat\", team_2, \"by\", t1score,\"/\",t2score)\n",
    "else:\n",
    "    print(team_1,\"played\",team_2,\"and it was a tie\")\n"
   ]
  },
  {
   "cell_type": "code",
   "execution_count": 28,
   "metadata": {
    "slideshow": {
     "slide_type": "notes"
    }
   },
   "outputs": [
    {
     "name": "stdout",
     "output_type": "stream",
     "text": [
      "Bêta beat Alpha by 3\n"
     ]
    }
   ],
   "source": [
    "team_1, team_2=\"Alpha\", \"Bêta\"\n",
    "t1score,t2score=3,3\n",
    "if t1score<t2score:\n",
    "    winner, looser = team_2, team_1\n",
    "    margin = t2score-t1score\n",
    "elif t1score>t2score:\n",
    "    winner, looser = team_1, team_2\n",
    "    margin = t1score-t2score\n",
    "\n",
    "if margin > 0:\n",
    "    print( winner ,\"beat\", looser, \"by\", margin)\n",
    "else:\n",
    "    print(team_1,\"played\",team_2,\"and it was a tie\")\n",
    "\n",
    "    \n"
   ]
  },
  {
   "cell_type": "markdown",
   "metadata": {
    "slideshow": {
     "slide_type": "slide"
    }
   },
   "source": [
    "**Exercice 16:**\n",
    "    \n",
    "L'Indice de Masse Corporelle (IMC) permet d'estimer le poids idéal en fonction de la taille. Son calcul correspond au poids en kilogrammes divisé par le carré de la taille en mètre (IMC = poids en kg/taille² en m). Le chiffre obtenu permet d'estimer la corpulence et éventuellement le surpoids ou l'obésité chez l'adulte, homme ou femme.\n",
    "L'interprétation de l'IMC pour les personnes de 16 ans et plus est la suivante :\n",
    "* Moins de 18.5: Underweight\n",
    "* Entre 18.5 et 24.9: Normal\n",
    "* Entre 25.0 et 29.9: Overweight\n",
    "* Plus que 30.0: Obese\n",
    "\n",
    "Ecrire un programme qui permet de saisir un poids en *pounds* et une taille en *inches*, de calculer et d'afficher l'IMC à deux valeurs après la virgule, et d'afficher l'interprétation la plus adéquate. Notez qu'un *pound* équivaut à 0,45359237 kilogrammes et qu'un *inch* équivaut à 0,0254 mètre.  \n",
    "\n",
    "**Astuce :** Pour afficher deux valeurs après la virgule, utilisez la fonction **format(nom_variable, \".2f\")**. Exemple : **print('La moyenne est :', format(moyenne, \".2f\"))**"
   ]
  },
  {
   "cell_type": "code",
   "execution_count": 38,
   "metadata": {
    "slideshow": {
     "slide_type": "notes"
    }
   },
   "outputs": [
    {
     "name": "stdout",
     "output_type": "stream",
     "text": [
      "Overweight\n"
     ]
    }
   ],
   "source": [
    "poids = float(input(\"Saissez un poids en pounds\"))\n",
    "taille = float(input(\"Saisissez une taille en inches\"))\n",
    "poids = poids * 0.45358237\n",
    "taille = taille * 0.0254\n",
    "print(\"vous faites\", format(taille, \".2f\"),\"mètres pour\", format(poids,\".1f\"),\"kg/m\")\n",
    "\n",
    "IMC = poids / taille ** 2\n",
    "print(\"Votre IMC est de\", format (IMC, \".2f\"))\n",
    "IMC=27\n",
    "if IMC < 18.5:\n",
    "    print(\"Underweight\")\n",
    "elif IMC > 18.5 and IMC < 24.9:\n",
    "    print(\"Normal\")\n",
    "elif IMC>25.0 and IMC<29.9:\n",
    "    print(\"Overweight\")\n",
    "elif IMC>30.0:\n",
    "    print(\"Obese\")\n"
   ]
  },
  {
   "cell_type": "markdown",
   "metadata": {},
   "source": [
    "**Exercice 17:**\n",
    "\n",
    "Ecrire un programme qui affiche un triangle d'étoiles de taille donnée, par exemple si on entre 6, le programme affiche:\n",
    "```\n",
    "*\n",
    "**\n",
    "***\n",
    "****\n",
    "*****\n",
    "******\n",
    "```"
   ]
  },
  {
   "cell_type": "code",
   "execution_count": 40,
   "metadata": {
    "tags": []
   },
   "outputs": [
    {
     "name": "stdout",
     "output_type": "stream",
     "text": [
      "* 3   4\n",
      "* 3   4\n",
      "* 3   4\n",
      "* 3   4\n"
     ]
    }
   ],
   "source": [
    "n= int(input(\"nbombre\"))\n",
    "for i in range (1, n + 1):\n",
    "    print(\"*\", (n-1), \" \", n*1)"
   ]
  },
  {
   "cell_type": "markdown",
   "metadata": {},
   "source": [
    "**Exercice 18:**\n",
    "\n",
    "Même exercice mais cette fois la sortie est\n",
    "```\n",
    "     *\n",
    "    **         \n",
    "   ***\n",
    "  ****\n",
    " *****\n",
    "******\n",
    "```"
   ]
  },
  {
   "cell_type": "code",
   "execution_count": null,
   "metadata": {
    "tags": []
   },
   "outputs": [],
   "source": []
  },
  {
   "cell_type": "markdown",
   "metadata": {},
   "source": [
    "**Exercice 19:**\n",
    "\n",
    "Ecrire un programme qui calcule, étant donné un entier *n* rentré par l'utilisateur, la plus grande puissance de *n* inférieure à un million."
   ]
  },
  {
   "cell_type": "code",
   "execution_count": 6,
   "metadata": {
    "tags": []
   },
   "outputs": [
    {
     "name": "stdout",
     "output_type": "stream",
     "text": [
      "36\n",
      "46656\n",
      "4738381338321616896\n",
      "2388636399360109977557402041718133080829429159844757507642063199359529632522467783435119230976\n",
      "185737791039679985364752926008770500597226018147001436305575478146464460786145793742058288732979928373624444949426695907656922372643924517935478390370441872479296485881566668330597221329951618274592419002773252595752072782668707905416136849765292597815427178497159158961612905205608202585703125114218009915579381666148275855722941117635598068431671791924497178300918788840519953095059578579309123290016421831615124520101938411555671860771364394020068386889252758817187787685311544537482862469102436536581701790174787440635452129406555301237380683311737498238976\n",
      "7626090126954757839154182251874604146073127666640891756510505144691068163048302955371857416130723234278098898776260923047779504257757310110519911444324360881566547866314115969659740913552468045089406190190654044848756365965035234850025834158141025724582314129317146070179561595442861311611367503684985904521416860645402676221932338498885664624521849120404869636272531024401885976695825159415960834901501997444127416543824550207858077650352517508347105117971206024393898368682841835123545522533190109512467611647873849951396418194405004579033220520755603655960317486783168934398998099355291137139682071479187355821101182948111134309045258091825482876143677961438043298561259805249340947443261374998063514262138411961459129141201522297156308731247584418587549642250247236022007525575338899415906464203026198478885236863428838676960474050555457398650613281473223805447761483029676357628028664179423242172712060133295376423109299368257003573042352043855803446021602202153156200321027421389610088324131130839932077603952941996500224253947959137220746641332224920160446779669260502066562476759574001208382514671191613977850590476777923122418514901585085601666753185958845055573894187562116925633234703634463082089891430172027548267965392915195542454948374861403882143555416602389992251472217712321825959775357812802371985049484215336249280992017161468372218933905097549073471280847645887582300408835168692920549414838831882314528451076656032680338036754568811278032495680719244342401275337343787757428170523295134322777815350584774879474252451618114303775074562657396207489448507562179994425793733286018088570934449419299424973469224430836943491228735625738147879236397595573192256086372425598830944720603913732214534767666887411122259720148196026871479435399784524176787855965989800228013486599725681187730905778181655488499889264246076687410525097530671375305300787541408801103024379211503215316843667237566251101058224363655025807748793567538236695279936224478006652405267353064333326908532936898970314896382357336112452749497326791602517779436717357901261631851987708650390390993030843179557352808639720850837974420900212744846572649303342871292139425680003224692717132949824379163596906385359394299045408521264622151331660104925842482871662303918352032384200798200690682150674127997739498969072676196579167773161145521534643911527524524988223537691191217167141001442830673407849947341861148905188702000507607591979410138869734318914243239422741844481743595132009348086414240194248024633503128117748255952400141454404797461785933472503489160092736659004113958955805592848250963946215990624460101479800578643971891888584444213820753204504759501210762155553909926804699835937688318875645065760828459836800869158937397958787137737383570849239517380832605138078804303588007177583654707408483784212220996624517976629955469509440119488977504828720528544042110948119986432440827895853525778121751787320890763596835665057332576824064919826019825359393746607929159347939648157151294369705814762835558825373014329685664559361953264914904210227986206219501397696045140278043951437684677780644567776341989583055020069825382696650476474249640904918356439356549456842892332094064532805015092088997606516335431210913338329457627907934933468639829461013472476980977259448116414482715260484187900623505062300697501076472064224904612296365184743798363559132654949611565118425120206025622932248173408344269735041911708994958055231216525868072894574966549482661164009456724343287204977480226117224827666291680121166545004477518660410349382481114356864327958253089771031388310609305956125523262066280563706923442771114811748762760267418343283042439684025021583408774462126985842517289708962251949701547235243296427953213995624208968540966646014200017469226942080230549425969100920406184846271569199244993325759744632821648295863586944908136622696838565988918282070200095952454727502416759755925138128818723122738526252298833045199774377444376576\n",
      "11439721943158973135231200775736166987044662128145327206153330247917920276348343901893500046894811252757878121757234469635464327909905618822699140301964073691087447221109814787648324619259683795897091446055081537913843299131523616779404533317797519649246008396381688881615333996313845410241214353778800603016931969607510853261715351491687692453466231773007488433723422423639050607116697656440748181555710781993119560911656721460681868083940674352812818405124087437104616393533140819456955951955886008340736616351578765922925571293256064042337041833076391625357689563727175768486617487912498015870400654429992843038516556691461424631899431614399620740899144493194596948201630791331992731051412701045164330527122748296013318835670958505017101055405959922504565510954512707550171748434836956934860115656097400847855744317794214907487987224585030375943737258027668813626548222682195900259641859418895280452713597711607481627420294132188248687672207319352875080617999975479005509539954275155986268476110243404600005089931269671470809209985436253183805794641162415113067869580148077783815171783333561809957369504417657784875062802258291042901716519874648684813422473737601071971243664764423340042080167126938943714518221988965122859096966963682849906212998681626499504580452889725072455745433317074233464779338531973471977152125741518434196244170341696151862880144669328676790454727015973645399823291947135958669708511436239022189899105531533484345080477288086979852046576925645440590647417565988025403687625041594990550360772774154039305153197624235636168438588269911681790004270530961576438530396557550678095298674671725544856827586310222409499200115188845495978864143306045906658282632233425526212470455985780469432801976012852153482322483348399939575325263237150889277425071889760226518905367667070609493345241767154979583490780194542818379082166909469935667593250578816940890369403828294897947260565424461648493104347105661029500414932964198778215649067000513054507911599985429688550846190846067914052681536911288326021810183743325720456633880811624328777331795933086278660525541383607628525543429983154878710834165922494112433449829661883103769088737456799740736341715629271071409223378362636219496893828849637041613252462771311460964761583804213705908164179089258933096822112923256733890831745530141762467126586481100314752778149673970267911926519489321475143537711715964920000728096348238589003325205698403236396402394097162690144313675507907852084787655059384802857034592851951937416420893141181109175249101052728757789813551679478578649856933495816731193672364846229698287329719517185787743287104012263314579771303146199220417732320416748757525736809951070321682459944731569079629546894420434721153889690413342629519020471602383526564062607363083360812724654931758563861972001503113912299961505472930007766510009100428690214518152124676143331164412243514168579847268777281850153075348295223529012910984254536213135430466630697605690003387160270860894667484109129810025998769190884806485963258959640811098922831443590006238583557491112347951362768062765171097114460607196393667028885715647043505342760014462265875015233806814313621343805823718369692000931097241008275183937804463398477813984100772219737174563640054115907025574725566941447091719131936559040985192452264938606385233510261212101551613168014628098940321809220243709168665981333139586729243251846258952114418304328627209026352868059555772812689309553831187974981626026416595630934900520129302729730682735692854401782992639161345012186205576466630858344584798276298880267597178378628466591718428746437333888120187783620187816971630475318821026188075716632475090308639274730331387659172587888961331214478242468103362025734038724788243906054443826385966380488256809234665823681381685537921903727048624037751880603812110075187787278467567261528326659211187852332476167211295216557756350404210163184875838057285712842310320610304903611545740492502159268457792637166821577892155975368145356458658022411916898019545935793586204918326906565789392140814002224889887498006402295101143089537989120753102856744876340239557293927774718188245817054586388618060989973641244911246101298187803688203861194955639155703704570238313024307170413567158102389794700927011139737414344683789819260068936760457921773091194717150313875331619575488089823386362569463980526457046004778138472197964158520396565013289751256617693577913352490503768657786886872309297399460624534631187035601067503106236257669980295586547109002293632111915330812400778099144476306864678061767464332392332367938142344735070386248024748197063374427295052300276191379592406394070637968057057599960943660986969791602556967017976359469708546596866410107443607039754888128633656435333105353751607274792434935358457310327332899151893068307219790931779700615697907702353278536105686161131729750241507655715347200566262593326626995755203754667850678095835357150236266130757745268206770874468770318325099879073529902097349248763639053168733965919567416481071822038483227544580232772252149246923641683250271226735288678161753072630615235395251203176241995614311883841783390345118645953274028332337121013153668797407597255851191913690958902430196601937220530522681124852153243808359108034945215900982482058047758299308772046853424409233495594428498655750330951656597693334418446841760630181562480674501146205923277144805170662584676835883595061118431725144775649222988686334584583844996899740939656262528940234318365910879191455599912611409049958824355802832215169954674305090898140547017999424138516783719576510743433647167452829047537395928315403116089477697161232404027955715230533488008430735656995166379273529339473799592380124218488794942746512620337447227589193147242325617113165433221890744884530463791472381100481286489689254779413741031641931536672472145097095107719900289909969043774486340370672285351353527059432162648796434000051588346833940567875319766992733297303512565935769091037818590083156401648573531141702663247121029577445303898219520187004356849679099911785795538864519782345297749299187943167618251988918182701223448023926172528127270597855614401896375320592402389932153077312157025412227127772816842944578278849337234648082679410136823881626429639676918249573204459469328134480615415870967453848678473043311416841983017363927720116800061998231643827295456006154633011166844963477166241120049362676830723861940096572465281432438149966083547595800160661148019154783441496905443793946536669686896534872295913780088665388714157528314149476060648777713570305009210484517907461314386728066162737117657644163398059517788590793167710529644240103713716660779940931655859456511971952115374929824095045895850484918758130685924188235364163786493240893933328430483432677778094964499531421856150213462226675950385320923010145368202938185244730333267857296864586351321860396684890839993760144550533787825961295300276197493363233043273054336910355383146348732499906812027297535003708208327514720133965940036859356093613572089402180630395998895035806279834556294613867669294865209594632336510799837010420132791003360810223164055010248822606040995404897683576954767838810657985313700010662133332378119097849964276859859952972566090030695635135940408187593629588005522227934137351675780420451347797706096751968788858433435493390851586587609884028525163281790977146988071508136563787757214292567353988266116751046433633576166086059910700909536756480520556011023679691140779132017000167020861174598222296889198704132043851802497375830223192024888535028501255846487826169586958380661354004754063650207584530163714562863847720584913062888147875170626610772887792558755007514956112146856486620849042409015066209329810428724640560290307613313752815403272774713735947960024037484964729965535178384180580525264142487237835271581817728953674853598070440532465817953160718875532476933570935948374246819522716185569395259472809897699888774312870731243096367234802210916542031335805217502861437631281515560753218405971059532633933511156000750245550060988277808648260956353930399912192441441223855187750198055510294913487972466651939109882158176376491529483530153220931300714518385821303427979672723094886866132408490068597910475485210658757620651240120891337107784403187578198982342525654710955167340944308420471156311350838318430019271475472960738912502108963349560996490727907315030746088076329287587060980373962634840933000939575850186332644657345040097014495869421737199198494982682975101604407744100574551100200690457073479432609661890670732041223269453482555247845778674882973917039545868289015476313141307650669632850004370098823371622941933268328128178571315692135758207961044592038848331560644468625811339761267490551859218698572090985659261654007633211459914986456075349006538450224426202822676271048417538405678395314455671862332281829072726315457581427679625648510512970987247384123207227000822339010535388417881013351015395194209877507013831877528258040110060554849864741505909501467565143553317012690743197244964069239462909126678173030750273136244315884627626035184291277013453143296523424387814870039303709559354378950674482700514540121528351467499501911041709575081228625129562619872821612080473222222386764079749665450817863148602534946953187031363805013029385739775920550113348416626799766041910993400733291187879374029944415063473363482761321617522059769555098004341813458201477870534432504777989137309954289519043099521103807157058318394068120133014540440305384907857492162523875714157216932040862783627695001403830004839146984109016365388372361478065100592549104765433290627869627817330031083141483278058326105875256009521370410521793642810298114444761076521032379857106862031256648458644004194223423644429053667258347860350852952131573824044000525367386797381321010685594587579399074764613491862688895974020934280578091481222914442120929397562582010994937006705961496129003685833314128775326316596365235387108745494763864331164879064740667459536222258436853005327169590079924249679304535407590571222353349489732723918796138794492608475816569494745978644410668987105609328189945480236779153526629969204103249991404055081236992503351940145896721331912482020377216626494481588068478908787807132485227582060681877997802002093349601856630488917249405188926070664540826596480411778661446455698697892027806724629170012709154622309824290832083220171400683991534592750539040197024112340009535687706261100348540009589213765469883295371096637722251747779984946158625585427782252201249723367217818112959905090980998152253290541648419764407002191920754238668073910094347271093371055257785708574449519946160773241900243561253080050572577501342362790806106627570505455518472239568767557836911155840837228394793708062512429313398288510497604382412081676704213754045318882174942041334973229814981468958592020742462131912337471788964532175458127889318855489434035052096676132747625601273150831067495585108509946984270982220656048891906476234817862326568080653375768709579115159512303125539624038590907906920677480392865680416623842150769434387373321429209934330805029932238961710499369749716454480486430934385689880494933006331486510325546937663239549731067658359213979708637841526200293872246331775597739427048514962345650312256078657970470195228987730085985828541900579574588265412033073199549696442707864715604869669087162357566651855293208586992880835654600422610432727806105876886967930491662616481646174955134889707602746919089788325079318537308247291144930383024532888210263727665492985052342872347975393559180543648707264485987343088327867424744389346200241367017160680872647229782108740157490819304798470198197565782258598746753965728641503686721066761504793730702768426437340534057802154630827784400435775234515082472594729803198762593400552340438513193654547455704114810444592920945844652105262859673240226785562767620348479615680073430967121455085550464774086346580441526734934349771767993957279142132187450933759736621583690999104482288372843927534675795662871516654281394481269570695727180560754869908853855273944552331098873464088343158041431473213873357656149783831899264990027139754477597137205496381873684392832810683335487181598544133103872387760269603213671607244983329012479056362050581948712896900536535900482107274769243730525479046000640217459822157647580221411458162832695810290085085371375944848035221395830543167830519719632102646149208340125621107896768260345906340524593849782563200026439190609517566103023476476572814116000311020887508322960794433540748335596469304338358156318663040575949111933844630554552523566380508070791833903408303583075542820341373059743087546186972456988647483802265863197920446856754593364105582174527347490351209179587808297124474505144164432997551364146959813705587845358176554621777290833048507487011675216940725640905513777067133600527016815498574616021673121563339834128831373579133128245620945776070782752718673605405126012339133174976003747991637523020011172791191602598749184554294438573858448486508069780961213701182348683185395004302121221672240886059373217829945304575170957571221519514085309403633120155976658869504524011282163349075635535578935447288431293030254259062494507501096305249938791757049649857024751056729309707118767510252559822476316060698072305025922302078426956544754450321168695315048662213760074942082603461459162039607775423130132492488814215880645507839223130065017230007304235480834517442152963121451750584241362074797772610285469385751027071797760521369987919233179189684770483214898758431260644424411333568036931495582368245227570664207663364084490445358545394163106935911428701458028748815185184423155468258017531346882880936266933646434969982208167356794414555253558795959465077806422834314563548952065788282458338903494590812938020756065746584542436083190273092876072443396749850623180341484342442853063748783345978323009482260712241344211099675939950153224546295316069512606770230180749020232504383276861983716111179943420775569085350285352282180405847185842123708145053706387792388814440683345082069662687464402419944897457584112960205839169245940284997691153638555124847456844543918265571613805917560754242532495823079600698465859970983706120498140014528548713698190923185736366991932940557590278940744746195655078995353923157771325064638783589296069039795438428559378282222336158159838960763369449490802127937212230816606695000726595280385667144488291370113130307147374539313720312422835057641931838431886828630221043324880529986607355255354906613430143076528961084327513777048611704064028265076917559744875927306339685280956695617209725927134269270930374850505185930002898189424568730282488967297749835212843372459145999136984239339718501683490634516283659228550561910628572122092320078655244437336892781929058940105883913663060775960822367245069813740001066731528423937617888374520041512628725956415790433802108946802565711813924410520863759380604697867264995147229976967339312458006470304413702091284939251108580048701537757481197579399200400427804397950592534821975452750477990180160572093674840892848556915947584003144386366944044162646740931672482796416732934752234084096848823107457137573820711281148939366380217935920843037549331531896182815373890333531173385420581708888553657064689921243242792270706969582469720277708987684824790211362305040270994149966806617810199980912056181262235243665150422337228421941103060840198177150123323123970881636014957713150888484465806104512825858447709960629840199517423374532671080358037085533702969771728886239894594760461463960600766852883370018258947263328204926627609621338566315150084152716034429292178083368187401575204103741918330013341736194611281866613821859599995821172872313023117049483033718466474254737632537789507954286689273183101741146927458112679122436850123160137604954797475586720408055815558296962895323257691923651997017323129307044871316581050881965270679455332459761690562516196804911411837662432154212053827633265819242572254009066028374548816134968660362653894614933400008393438129433933565031208681775906726309663227567831709785181982326531568814143299602924471621601496165227803016464164247435719023279521598703918923265604104804038996455625077534404501952530968050151351789047407147258594932563942642340807123222983339842872633606266535667613950487016801376271884730172899247847766102560291110164938943345802998343371538224898842317927223337810479640449744668092911849387521523023819925033946127483846559516303180776882317926240512032706424629162920300291951266654998596981272523494644270528616554236263104734125998537464251105891024081448774024942574374102355200567148934844871704182329358711971927741881507977623649241058599090397420748752328808112428820712124991536042176410710099261508550517787680412804139721112076403904043592850567000905273527624856225019062070416926904260171040462590501141989767715405761877327773012213300763536404543217698803267822532046681719142200652524237983549059340898850351878394505139966549959513737369987057391227802481275723945872358119810546384427332858262038062749917842783201928569202065734064178764854686884244454308802858123768835185281246898578112362650480822372576093875602496344633399937376682890371046849879726209745192689774855538085575215653570709723775070090017654508950719767539745723653937857211042245532516707459531776756515751202893557012161898352115244091251758271348800641980748408324371279541661387454953902310866479196657904575673803062794425149573952404535875052340812146388905942463727136250424648760166663660265687628836080096523921828149721255909144277482945133830654626775598869426832678595878855144549937299880620443393454591110979029040135382685502876868157234623903267627610338411338634847813041361358940745882198492862765638797814584392558805845741990389400735437318260188872661400167377887751473684217334113054725688746048596203310127163903260991365152932015499240285305844061151275738381288187458921600282824260180667321796174456470357357187464687799977730288503340523465198736999157707339185941609423655214798743142513787018369174484837243918851100570799643915653549554510400581095305795963216170947879335077231489638200500732522126024325967057658417582185774819398373662172669480900714509773773298875208569957186117776959834305363128754775654757444319296148488314817671901293103414689072097793413647810088064048670547652490443224546693788222579769663489353773670456908420188079911797558930846098317846472032211740245319336982740158729441697249825960380976176755399733366670699868759206905626516752199250674271414733635252745582346093530655532054413390439354044790726524813980495179232294511271638649963469000841064364347803288795172015378852342035792783558188397371483702882139533296898296787550717485981345618241699613863741487560293793573052385196124836286737434360199680477645255970410448517382784722874884785673096143334903070192547365178993570944751062899674027567977995660128738798455742464257014287099867823838739844707536355586997534505354555198873583994029171232092060163751148075550685164229972589887245215363588862170322468176898061030442351765595148700909637755699074599229851621522199170006891660834691272273012985495327333394561627686266179216719710706172740867131557163095154642225680643204695732714988088239608050614118042851725111594397255212740773620756833633607574443446571474138540846343357669018497481282666940609468631130709836917621515070199437392656085793961238252740214470578211259331561248273842026764152072429246814165242922345088932634964405804882713971254473036856997343875135212867355728264085991543598012587301616229099868523311110793608973050419121147521166658429331821673028227758771456562862179581330520357437142173190130033973050944838192884828091569611125792161165448130187303558546047619867894884565134358756578907587209668381158072495324699914932136657205381711968991737143811453086190149208391639164728313261344743635446155550366844853070229412732633146195816629636616458085634009588995294010014955551223499248828664670750332066520017631390437627558113957080369913874002008333320202700773516226390672608037197894343550525217955766157378562473913815341109793054706298264841318510563194759013794682256971598046839927785636550166428716923046533764969605122522173968919205419366727175829116001252801413884844086886077484807160835061754634070550141503301441481363785446218474538361887715613549755141553878551657862107806848094999862202134721970048177371557538340851641880259678224830970386861419611251077836798077514377628869069315937111205706830440583031814226915068154355266663881873905557107029918871489279166328145132755389231876582845441035220936193492355805928032118033672401661655211365824786613628519110129327631369873227778731285852899006508002044844449245414789793963730415107806201084126021944652622673886666309787452812294843868451955886521183185940007619966033947055507142923039181287247965967915619060826220451275721495852417417102310873340084139638969227244475493595247944690758741215279404871395473362018635953590065427773064031746671562084522486643634528438976230520203691622071101680931975725120263906547256201746031785410267087016343522025312670680129105968670089833426497482917860376543294700974303134872864532876344007057482660387528557522705878214051912566097655817229782030312477752330719628139756218138646998082472279301580155232724652039467342680149373775931566285246840704197798468215806399290812465359418519675759208018419136077185063439222341161031701014880542309923591224578667043136923048332660774110866114693989926816336036518858007871015897388274177744611945042650647144926273859008829624736284138003702640263997214554737896235041844420739890903584006360909014181767765504973825315976643153235618564472285386974522306676546038440099736649958698563381985131483876846886104613901133090776980306212588599284685112420595489438708809973881361861808036797860523980896744320858060144851258870678076412333986780261733268123173566290660416715581288347484247607414931005931609883079531321798734743521858890951285376753069285196858802266975557847028296368473049426434717906820004698418604125291086606585474872311026148026354396923867123198483874194644455471278120970828292822233718292357616202490451721724922895178801802679458273186802958250200877021776424208965153656698407253139223608743781757950666720284759245868904795625428230556682196196192982578181007323494199709186568582823436021245592125453669315095506886034956708322605414081634623750995886830267893442368166956663291698015563620999649668685226365859537423089418553853363925268246954381596536092658082485035552198825084073056057331718684302940170246712419319953775860025787497295202163868033547944158020994584799428850417865837838524675503870358995424002013283911502423419300366796255440658543800130477770997989275907905933258528233678305521189573601340767527895964687016037187376899732098909690694060525667828160453516512823465688964581417486162923108103465571156708508741015769801335804726497100298399102751873458994643343092680984435448600494839030181111860989064658768734864650110453025392367683103885782296106502355679322304920228785949039577039595026868125009410544284880418365159961719932396669932543756337155105132501937835511460507153504826983339435038742625004507869452625004359954274028446945004217344244584916096078837786858340303455656253598515529726165794623072035322251644290366536994517648093984028304515334760889045739403133348135453760472520740425450347638686082991360379906389880776409124707406541594956242916163296444382089761557607715758167145491223972544176766251903148332593761544682214296259724455070123215901159360619058196128512389998795149774926720850439236926973177089662438395036751268727642451314608986381911076821925923797522711089361645976320485027275918144709655153380038991024875923013848408102694013141413261982283205380415995921389440881716189665125060848107239394722731374732759442391493837118499790053909555346060418398606617754747447295762543046928372551909363164676191917151685138623497119810641038339782667638403208346884471059487552245353223055630211519277905716257487590744414888364943753411807524455920780768463005716123553864608488298813252334081736804943120096889280625129132153943846594330530992293181228669027063450376539661162071517013951793182369610802374450097661042111959019484686115218580281276092188957916350739119827472944688359314936610035469694622680338461372776656035347869799438558792942687881860401740558639155265056479770667693997540513694940122385513938965963544061385944455872813595129148343517237335281886927744678551001151674706266709187155355696807729822619165359237596957051951295122452523513035332771418631849351224041501007498643716175030777212636068302048130103890048239364167997494022234523530748079228062057315297291828668349879523230430610556892431292749755209973497283207971879435985847239702815255951062420997447946326265752222967850663628589307350362867407549229151407696112439061767095861232379064941360750308510223133963515428298681566813087562437768646645317242604864092730892469581968015308806462843515714997921167784648240978199896282225769877487482212209730708776138690766157823453494577322930393862553139780659361789795843149932750355570342382993895174506201451824042841667113580444605975891306937300992868558439298361966486278579583864686705615447409478201087422199370295108331888667522951020480421423050055385195424703474081719540136384261632333882877201627724203740172750989762075890465699510700636155054310029295404142412799059553467376114303033409016221979891058125727133422926978699943817284932096232824559325868728446918566179370639038322119312063316470285531454307813404104667787391035339953394141710509105504779010952882393956747326583306203935070015271455961528653587455060576510027670101464904375585421323120843240064688163123160322436607812062713813659206966483651042895730426659857346304121117088735340604663966656509958900710085383587092777285512822446858084518873302833545401489812407866140567940259699704085047337873998416639151644402360570281477295500081753912353486020718270400604749341913137115084061848612064006605727337306625052178979267249033204759297652754248257969357254271172649423374907689972544801745862194701410007532838017780580742597196475758265634010734227884615969589202006299552517970360641468000965103363889926304224475047723344560623772375762822147393051774685196874204306961850970810143333303722510204324674991274495336360122521272009930548180226824231710934490003833296554010373178310654315796571867203950902514564188762152563395532505148673406897526488018030614094755313203169820059679980554735956723873080971293649801373408828117081474039814952321919090285574566005068264199611104996213437480271466759460351200164275903186191492421548111446710276314188578273734181018488093437828428306000038327256167713204515371687780917962730335884273136276020078608568950222673818429903582074191995664817326600228407591165510776511663662918281037594950248898131688762378194189900714511747284036571500938021836988832781184974422094157062480572239382830489354100349335528171810963787112124604170232183907214379207411452729264386179540248466262179543787352136062079703929119428114588346768769333399402341868463703680170203930539707062552148031339955247672061543295419433716002379891843413593953704777829145184864629179673362383090194761127877839265376900800290712540721091335213853005750525764775124704345923515634686625480554971073329274626299523269310133706459268066158950901142624474459057373063084872829576710903077576604620084169320754252172963398116417365532845921673392523014038631517319444197532489342494932290633967735451276534478045543928257509964920725991995018405264555460673482914319932382257938919668325585802892421005764970170822560347375261083951962721950439606413564759385496869731914575576417325536439035651189815269097409823707401164889105457719661156240873907381599074677443221237972501662422839863582926456217087927761010705127903521082088424290570103217863161510927006015971609189229899657401448018940018575749391934819285565937694199783903334344313187430893269997336997148190216197941616406006869193947789464972920690046480117037829802112779344763526308804262214814465383126791415411519005654782274815362986595785944857645078784589542222764550708800649324241234670102845048410129258141250934430935153989419389453842463241000291588762422215649013365184955792544124248681737525109000175355906244279557220450622814237930739209788446351690124129485827186983770277455679795076481743637248732734374854549990799143420807217028038986792411926055438367212565529181180091077035568371426287814233217596527223317859867915455201281530180240997244684120073107732113546569361397887399506611967131408161687630783194052369958454994723073317760588155629405790883677733280746550646161378648512599603810561267967898147038857356748709057334107316095593120872445522653386869041211133489056320272316251085106731383114985736243610706636944246692773569820412453589216969936861650611028428234518488165323150440593084579881477345694532494945696486898329076762591278897915905049801129209307351857178117545600968958604291883765472287587302577295470397113264404957507472810885150282616308382816033818309419816680310439653186492367611604350119587665383580490111013677041507094702874602679501361891230463320065392502111963428554530723416869929420249947673324327746060698795597850328591826033140412881469629355910117840173465198827089824243628955491178465526075848345351431964007665287072162034895780109507671671807430986655580941644136216744566726530625294340337114801003562991013926793832865701131295826687109944214657270010808118470239757516604082193824791819232771751610773896307435375969949273678658326755413286038647787242144252424617423113422752298599173731641818407041380838901417186743968978859661461925616196914994956184699997672152647723458514176801897162949698875152329354453883672312302579062035131877389790182278436117520471223459802049047082322328007388927673588745346956036957981674237418231689929582373080197369486890699594248497008473202103865276226878607175978928637439624283741099105249332923715195420423948031054687914246220040093740574845813480183275967744908311157409816756139209470440542106347874429514991657796836349020541832412197308493457905181905163694079881575658688292402371030130309849900351480157099249564824051255702666296292038538228085808318023187316888829600888792532975381756494589775635799046961073309684462866554782368507707983375336331426322202501171244117870975499968815700267767699963363650237848025051555152021415670709328979562226162409928828792000950130750616174009044044735039326586042550672637687609512023900659632278230657661555067734815279578829740729506908015555941146792787998852534119839770158348817854925170279677175544305195519033621102851503537311961164467760285952676270370527352784573249262775351388144350545530961687361473098662488812276393907850486161951661313998346724008512426320158001488736515974244742888715803314218980515695583434378084401725593059535972894277330123770769661033329209780640574474198884032748356639935777114355717525465276171506097853029714298150049148202270353672376250890725275556106511589869237624350392093600997056952934750067197049210370008880604113447563322717675403266571077404869767811966862650564587755110182655835792588500737947734763618837909015088306070207908332914674679524348216513492073720575643004133816944974255809863662215357379216761440432042470785628047693811464114743837839896770251436002656806340990869722906913033178823227579342454604862370741402585201088583527465939696313795299187403777433452829405275362906653616766976\n"
     ]
    }
   ],
   "source": [
    "n=int(input(\"donnez un entier\"))\n",
    "x=2\n",
    "while n**x!=1000000:\n",
    "    n=n**x\n",
    "    x+=1\n",
    "    print (n)\n",
    "print(\"La plus grande puissance de n inférieur à un million est : \", n)"
   ]
  },
  {
   "cell_type": "code",
   "execution_count": 1,
   "metadata": {},
   "outputs": [
    {
     "name": "stdout",
     "output_type": "stream",
     "text": [
      "a est inférieur à b. Voilà une autre façon de l'écrire : 4 2\n"
     ]
    }
   ],
   "source": [
    "#exercice 1 : if, else, elif (entraînement khôlle)\n",
    "a = int(input(\"Rentre la valeur de a :\"))\n",
    "b = int(input(\"Rentre la valeur de b :\"))\n",
    "if a>b:\n",
    "    print(\"a est supérieur à b\")\n",
    "else:\n",
    "    a,b = b,a\n",
    "    print(\"a est inférieur à b. Voilà une autre façon de l'écrire :\", a>b)"
   ]
  },
  {
   "cell_type": "code",
   "execution_count": 6,
   "metadata": {},
   "outputs": [
    {
     "name": "stdout",
     "output_type": "stream",
     "text": [
      "fin\n"
     ]
    }
   ],
   "source": [
    "#exercice 2 : if, else, elif (entraînement khôlle)\n",
    "import random\n",
    "\n",
    "nbale = random.randint(10,99)\n",
    "nbuser = int(input(\"Rentre un nb\"))\n",
    "if nbale / nbuser == 0 and nbuser > 1 :\n",
    "    print(\"Diviseur\")\n",
    "print(\"fin\")"
   ]
  },
  {
   "cell_type": "code",
   "execution_count": 8,
   "metadata": {},
   "outputs": [
    {
     "name": "stdout",
     "output_type": "stream",
     "text": [
      "3249 57\n"
     ]
    }
   ],
   "source": [
    "#exercice 3 : if, else, elif (entraînement khôlle)\n",
    "var1 = 23\n",
    "var2 = 34\n",
    "if var1 == var2 :\n",
    "    var1, var2 = var2, var1\n",
    "else:\n",
    "    var2=var1+var2\n",
    "    var1=var2**2\n",
    "print(var1, var2)"
   ]
  },
  {
   "cell_type": "code",
   "execution_count": null,
   "metadata": {},
   "outputs": [],
   "source": [
    "#exercice 1 : For while (entraînement khôlle)\n",
    "nb1 = int(input(\"nb1\"))\n",
    "nb2 = int(input('nb2'))\n"
   ]
  }
 ],
 "metadata": {
  "celltoolbar": "Diaporama",
  "kernelspec": {
   "display_name": "Python 3.9.12 ('base')",
   "language": "python",
   "name": "python3"
  },
  "language_info": {
   "codemirror_mode": {
    "name": "ipython",
    "version": 3
   },
   "file_extension": ".py",
   "mimetype": "text/x-python",
   "name": "python",
   "nbconvert_exporter": "python",
   "pygments_lexer": "ipython3",
   "version": "3.9.12"
  },
  "vscode": {
   "interpreter": {
    "hash": "60210617e42cdaf7c08c48b31a40cc0b65e0c8957f8108380e9d272d5a5882e2"
   }
  }
 },
 "nbformat": 4,
 "nbformat_minor": 4
}
