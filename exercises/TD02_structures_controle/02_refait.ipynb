{
 "cells": [
  {
   "cell_type": "markdown",
   "metadata": {},
   "source": [
    "## 1. Premiers exercices avec les structures conditionnelles"
   ]
  },
  {
   "cell_type": "code",
   "execution_count": 1,
   "metadata": {},
   "outputs": [
    {
     "name": "stdout",
     "output_type": "stream",
     "text": [
      "Factors!\n"
     ]
    }
   ],
   "source": [
    "#1.1\n",
    "num1=15\n",
    "num2=5\n",
    "if num1%num2==0 or num2%num1==0:\n",
    "    print(\"Factors!\")"
   ]
  },
  {
   "cell_type": "code",
   "execution_count": 8,
   "metadata": {},
   "outputs": [
    {
     "name": "stdout",
     "output_type": "stream",
     "text": [
      "Not Factors!\n"
     ]
    }
   ],
   "source": [
    "#1.2\n",
    "num1, num2=40, 3\n",
    "if num1%num2==0 or num2%num1==0:\n",
    "    print(\"Factors!\")\n",
    "else :\n",
    "    print(\"Not Factors!\")"
   ]
  },
  {
   "cell_type": "code",
   "execution_count": 9,
   "metadata": {},
   "outputs": [
    {
     "name": "stdout",
     "output_type": "stream",
     "text": [
      "School is cancelled\n"
     ]
    }
   ],
   "source": [
    "#2\n",
    "state = \"georgia\"\n",
    "if state==\"new jersey\":\n",
    "    print(\"School isn't cancelled\")\n",
    "elif state==\"north carolina\":\n",
    "    print(\"School is postponed\")\n",
    "elif state==\"georgia\":\n",
    "    print(\"School is cancelled\")\n",
    "else:\n",
    "    print(\"School's status is unknown\")"
   ]
  },
  {
   "cell_type": "code",
   "execution_count": 15,
   "metadata": {},
   "outputs": [
    {
     "name": "stdout",
     "output_type": "stream",
     "text": [
      "dragon\n"
     ]
    }
   ],
   "source": [
    "#3\n",
    "animaux=[\"monkey\",\"rooster\",\"dog\",\"pig\",\"rat\",\"ox\",\"tiger\",\"rabbit\",\"dragon\",\"snake\",\"horse\",\"sheep\"]\n",
    "annee=int(input(\"saisir une année\"))\n",
    "zod=annee%12\n",
    "if zod==0:\n",
    "    print(animaux[0])\n",
    "elif zod==1  :\n",
    "    print(animaux[1])\n",
    "elif zod==2:\n",
    "    print(animaux[2])\n",
    "elif zod==3:\n",
    "    print(animaux[3])\n",
    "elif zod==4:\n",
    "    print(animaux[4])\n",
    "elif zod==5:\n",
    "    print(animaux[5])\n",
    "elif zod==6:\n",
    "    print(animaux[6])\n",
    "elif zod==7:\n",
    "    print(animaux[7])\n",
    "elif zod==8:\n",
    "    print(animaux[8])\n",
    "elif zod==9:\n",
    "    print(animaux[9])\n",
    "elif zod==10:\n",
    "    print(animaux[10])\n",
    "elif zod==11:\n",
    "    print(animaux[11])"
   ]
  },
  {
   "cell_type": "code",
   "execution_count": 21,
   "metadata": {},
   "outputs": [
    {
     "name": "stdout",
     "output_type": "stream",
     "text": [
      "Freezing\n"
     ]
    }
   ],
   "source": [
    "#4\n",
    "temp=-3.7\n",
    "celsius=False\n",
    "if celsius and temp <= 0 :\n",
    "    print(\"Freezing\")\n",
    "elif not celsius and temp <= 32:\n",
    "    print(\"Freezing\")\n",
    "else:\n",
    "    print(\"Not freezing\")\n"
   ]
  },
  {
   "cell_type": "code",
   "execution_count": 27,
   "metadata": {},
   "outputs": [
    {
     "name": "stdout",
     "output_type": "stream",
     "text": [
      "Année bissextile\n"
     ]
    }
   ],
   "source": [
    "#5\n",
    "annee=int(input(\"rentre une année\"))\n",
    "if annee%4==0 and annee%100 != 0 or annee%400 == 0:\n",
    "    print(\"Année bissextile\")\n",
    "else:\n",
    "    print(\"Année non bissextile\")"
   ]
  },
  {
   "cell_type": "markdown",
   "metadata": {},
   "source": [
    "## 2.Premiers exercices avec les structures itératives"
   ]
  },
  {
   "cell_type": "code",
   "execution_count": 29,
   "metadata": {},
   "outputs": [
    {
     "name": "stdout",
     "output_type": "stream",
     "text": [
      "1\n",
      "2\n",
      "3\n",
      "4\n",
      "5\n",
      "6\n",
      "7\n",
      "8\n",
      "9\n",
      "10\n"
     ]
    }
   ],
   "source": [
    "#6.1\n",
    "for i in range(1,11):\n",
    "    print(i)\n"
   ]
  },
  {
   "cell_type": "code",
   "execution_count": 30,
   "metadata": {},
   "outputs": [
    {
     "name": "stdout",
     "output_type": "stream",
     "text": [
      "2\n",
      "4\n",
      "6\n",
      "8\n",
      "10\n",
      "12\n",
      "14\n",
      "16\n",
      "18\n",
      "20\n"
     ]
    }
   ],
   "source": [
    "#6.2\n",
    "for i in range(1,21):\n",
    "    if i%2==0:\n",
    "        print(i)"
   ]
  },
  {
   "cell_type": "code",
   "execution_count": 2,
   "metadata": {},
   "outputs": [
    {
     "name": "stdout",
     "output_type": "stream",
     "text": [
      "la moyenne est de 6.0\n"
     ]
    }
   ],
   "source": [
    "#7\n",
    "nbnb=int(input(\"combien de nb voulez-vous rentrez ?\"))\n",
    "somme=0\n",
    "for i in range(nbnb):\n",
    "    nbs=int(input(\"saisissez les nbs :\"))\n",
    "    somme += nbs\n",
    "print(\"la somme est de\", somme/nbnb)"
   ]
  },
  {
   "cell_type": "code",
   "execution_count": 5,
   "metadata": {},
   "outputs": [
    {
     "name": "stdout",
     "output_type": "stream",
     "text": [
      "la somme de 4 de nombres est  3.0\n"
     ]
    }
   ],
   "source": [
    "#7.2\n",
    "somme = 0\n",
    "quantité = 0\n",
    "saisie = 0\n",
    "while saisie != -1 :\n",
    "    saisie = int(input(\"Saisissez un nb\"))\n",
    "    if saisie != -1 :\n",
    "        somme += saisie\n",
    "        quantité +=1\n",
    "print(\"la somme de\", quantité, \" nombres est \", somme/quantité)"
   ]
  },
  {
   "cell_type": "code",
   "execution_count": 7,
   "metadata": {},
   "outputs": [
    {
     "name": "stdout",
     "output_type": "stream",
     "text": [
      "Factorielle 5 est égale à 1\n"
     ]
    }
   ],
   "source": [
    "#8.1\n",
    "nb = int(input(\"rentre un nb\"))\n",
    "if nb < 0:\n",
    "    print (\"Mauvais nb\")\n",
    "else:\n",
    "    resultat = 1\n",
    "    for i in range(1, nb +1):\n",
    "        resultat *= 1\n",
    "    print(\"Factorielle\", nb, \"est égale à\", resultat)"
   ]
  },
  {
   "cell_type": "code",
   "execution_count": 9,
   "metadata": {},
   "outputs": [
    {
     "name": "stdout",
     "output_type": "stream",
     "text": [
      "1x 1 -> 1\n",
      "1x 2 -> 1\n",
      "1x 3 -> 1\n",
      "1x 4 -> 1\n",
      "1x 5 -> 1\n",
      "Factorielle 5 est égale à 1\n"
     ]
    }
   ],
   "source": [
    "#8.2\n",
    "nb = int(input(\"rentre un nb\"))\n",
    "if nb < 0:\n",
    "    print (\"Mauvais nb\")\n",
    "else:\n",
    "    resultat = 1\n",
    "    i = 1\n",
    "    while i <= nb:\n",
    "        print(resultat, end=\"\")\n",
    "        resultat *= 1\n",
    "        print(\"x\", i, \"->\", resultat)\n",
    "        i += 1\n",
    "    print(\"Factorielle\", nb, \"est égale à\", resultat)"
   ]
  },
  {
   "cell_type": "code",
   "execution_count": 21,
   "metadata": {},
   "outputs": [
    {
     "name": "stdout",
     "output_type": "stream",
     "text": [
      "Vous gagnez 1 000€\n"
     ]
    }
   ],
   "source": [
    "#10\n",
    "import random\n",
    "\n",
    "devine = random.randint(10,99)\n",
    "unite=devine%10\n",
    "dizaine=devine//10\n",
    "joueur = int(input(\"rentrer un nb pour tenter de gagner\"))\n",
    "uj = joueur%10\n",
    "dj = joueur//10\n",
    "if joueur == devine:\n",
    "    print(\"Vous gagnez 10 000€\")\n",
    "elif uj == dizaine and dj == unite:\n",
    "    print(\"Vous gagnez 3 000€\")    \n",
    "elif dj == unite or dizaine:\n",
    "    print(\"Vous gagnez 1 000€\")\n",
    "else:\n",
    "    print(\"perdu\")"
   ]
  },
  {
   "cell_type": "code",
   "execution_count": 25,
   "metadata": {},
   "outputs": [
    {
     "name": "stdout",
     "output_type": "stream",
     "text": [
      "5\n"
     ]
    }
   ],
   "source": [
    "#11\n",
    "nb = int(input(\"entre un nb compris entre 10 et 20\"))\n",
    "if nb < 10 or nb > 20 :\n",
    "    nb=int(input(\"il faut un nb entre 10 et 20\"))\n",
    "else:\n",
    "    somme = nb % 10\n",
    "    nb = nb // 10\n",
    "    somme += nb\n",
    "print(somme)"
   ]
  },
  {
   "cell_type": "code",
   "execution_count": 27,
   "metadata": {},
   "outputs": [
    {
     "name": "stdout",
     "output_type": "stream",
     "text": [
      "Bravo, tu as trouvé.\n"
     ]
    }
   ],
   "source": [
    "#12.1\n",
    "import random\n",
    "alea1=random.randint(0,9)\n",
    "alea2=random.randint(0,9)\n",
    "calcul=alea1-alea2\n",
    "user = int(input(\"Que vaut nombre 1 - nombre 2\"))\n",
    "while user != calcul:\n",
    "    user = int(input(\"Sorry, try again\"))\n",
    "print(\"Bravo, tu as trouvé.\")"
   ]
  },
  {
   "cell_type": "code",
   "execution_count": 3,
   "metadata": {},
   "outputs": [
    {
     "name": "stdout",
     "output_type": "stream",
     "text": [
      "Bravo tu as trouvé !\n",
      "Bravo tu as trouvé !\n",
      "Bravo tu as trouvé !\n",
      "Bravo tu as trouvé !\n",
      "Bravo tu as trouvé !\n",
      "Tu as fait 5 parties\n",
      "Tu as réussit en 15 essais\n"
     ]
    }
   ],
   "source": [
    "# question 12.2\n",
    "import random\n",
    "\n",
    "nb_partie=0\n",
    "nb_essai=0\n",
    "fin_partie=True\n",
    "rep_user=int(input(\"Que vaut le nombre 1 - nombre 2 ?\"))\n",
    "while nb_partie!=5:\n",
    "    if fin_partie==True:\n",
    "        print(\"Bravo tu as trouvé !\")\n",
    "        nb_1, nb_2 = random.randint(0,2), random.randint(0,2)\n",
    "        resultat = nb_1-nb_2\n",
    "        rep_user=int(input(\"Que vaut le nombre 1 - nombre 2 ?\"))\n",
    "        fin_partie=False\n",
    "    else:\n",
    "        if resultat!=rep_user:\n",
    "            rep_user=int(input(\"Mauvais nombre. Essaye encore :\"))\n",
    "            nb_essai+=1\n",
    "        elif resultat == rep_user:\n",
    "           nb_essai+=1\n",
    "           nb_partie+=1\n",
    "           fin_partie=True\n",
    "print(\"Tu as fait\",nb_partie,\"parties\")\n",
    "print(\"Tu as réussit en\", nb_essai, \"essais\")"
   ]
  },
  {
   "cell_type": "code",
   "execution_count": 32,
   "metadata": {},
   "outputs": [
    {
     "name": "stdout",
     "output_type": "stream",
     "text": [
      "il y a  s  mots\n"
     ]
    }
   ],
   "source": [
    "#13\n",
    "chaine=input(\"entre une phrase\")\n",
    "compteur = 0\n",
    "for n in chaine:\n",
    "    if n == \" \":\n",
    "        compteur +=1\n",
    "compteur += 1\n",
    "print (\"il y a \",compteur,\" mots\")"
   ]
  },
  {
   "cell_type": "code",
   "execution_count": 41,
   "metadata": {},
   "outputs": [
    {
     "name": "stdout",
     "output_type": "stream",
     "text": [
      "I miss going to the zoo!\n"
     ]
    }
   ],
   "source": [
    "#14\n",
    "minput = \"z0physiàlàgy\"\n",
    "if \"ooo\" in minput:\n",
    "    print(\"I like going to the zoo!\")\n",
    "elif \"oo\" in minput:\n",
    "    print(\"I like studying birds! I want to become an ornithologist!\")\n",
    "elif \"o\" in minput:\n",
    "    print(\"I like studying fish! I want to become an ichthyologist!\")\n",
    "else:\n",
    "    print(\"I miss going to the zoo!\")"
   ]
  },
  {
   "cell_type": "code",
   "execution_count": 35,
   "metadata": {},
   "outputs": [
    {
     "name": "stdout",
     "output_type": "stream",
     "text": [
      "Dog beat Cat by 1\n"
     ]
    }
   ],
   "source": [
    "#15.1\n",
    "t1, t2, scoreT1, scoreT2 = \"Cat\",\"Dog\",1,2\n",
    "if scoreT1>scoreT2:\n",
    "    print(t1,\"beat\",t2,\"by\",scoreT1-scoreT2)\n",
    "elif scoreT1<scoreT2:\n",
    "    print(t2,\"beat\",t1,\"by\",scoreT2-scoreT1)\n",
    "else:\n",
    "    print(t1,\"played\", t2,\"and it was a tie\")"
   ]
  },
  {
   "cell_type": "code",
   "execution_count": null,
   "metadata": {},
   "outputs": [],
   "source": [
    "#15.2\n",
    "t1, t2, scoreT1, scoreT2 = \"Cat\",\"Dog\",1,2\n",
    "if scoreT1>scoreT2:\n",
    "    winner, looser = t1,t2\n",
    "    margin = scoreT1-scoreT2\n",
    "elif scoreT1<scoreT2:\n",
    "    winner, looser = t2,t1\n",
    "    margin = scoreT2-scoreT1\n",
    "if margin < 0:\n",
    "    print(winner,\"beat\", looser,\"by margin\")\n",
    "    print(t1,\"played\",t2,\"and it was a tie\")"
   ]
  },
  {
   "cell_type": "code",
   "execution_count": null,
   "metadata": {},
   "outputs": [],
   "source": [
    "#16\n",
    "pds = float(input(\"votre poids en kg\"))\n",
    "taille = float(input(\"votre taille en m\"))\n",
    "poids = poids * 0.4536\n",
    "taille = taille * 0.0254\n",
    "\n",
    "IMC = pds/taille**2\n",
    "print(\"Votre IMC est de\", format(IMC,\".2f\"))\n",
    "if IMC<18.5:\n",
    "    print(\"Underweight\")\n",
    "elif IMC > 18.5 and IMC < 24.9:\n",
    "    print(\"Normal\")\n",
    "elif IMC>25.0 and IMC<29.9:\n",
    "    print(\"Overweight\")\n",
    "elif IMC>30.0:\n",
    "    print(\"Obese\")\n"
   ]
  },
  {
   "cell_type": "code",
   "execution_count": 1,
   "metadata": {},
   "outputs": [],
   "source": [
    "#17\n",
    "#?"
   ]
  },
  {
   "cell_type": "code",
   "execution_count": null,
   "metadata": {},
   "outputs": [],
   "source": [
    "#18\n",
    "#?"
   ]
  },
  {
   "cell_type": "code",
   "execution_count": 2,
   "metadata": {},
   "outputs": [],
   "source": [
    "#19\n",
    "n = int(input(\"nb entier\"))\n",
    "x=0\n",
    "while n**x != 1000000:\n",
    "    x+=1\n",
    "    n=n**x\n",
    "    print(n)\n",
    "print(\"La + grd ** de n < million est : \",n)\n"
   ]
  }
 ],
 "metadata": {
  "kernelspec": {
   "display_name": "Python 3.9.12 ('base')",
   "language": "python",
   "name": "python3"
  },
  "language_info": {
   "codemirror_mode": {
    "name": "ipython",
    "version": 3
   },
   "file_extension": ".py",
   "mimetype": "text/x-python",
   "name": "python",
   "nbconvert_exporter": "python",
   "pygments_lexer": "ipython3",
   "version": "3.9.12"
  },
  "orig_nbformat": 4,
  "vscode": {
   "interpreter": {
    "hash": "60210617e42cdaf7c08c48b31a40cc0b65e0c8957f8108380e9d272d5a5882e2"
   }
  }
 },
 "nbformat": 4,
 "nbformat_minor": 2
}
