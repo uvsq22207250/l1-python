{
 "cells": [
  {
   "cell_type": "markdown",
   "metadata": {},
   "source": [
    "# Instructions Générales\n",
    "\n",
    "Ce TD est à faire en créant un fichier td3.py, que vous éditerez dans VSCode. \n",
    "Vous ne remplirez pas les cellules de ce notebook, mais vous les copierez au fur et à mesure \n",
    "dans votre fichier pour les compléter.\n",
    "\n",
    "Vous respecterez au mieux les règles d'écriture de code, en particulier chaque fonction devra avoir un **docstring** et des commentaires si nécessaire et les noms de variable seront illustratifs de leur usage. Vous utiliserez les outils de débogage (flake8, mypy, debugger, pythontutor ...) pour corriger vos bogues."
   ]
  },
  {
   "cell_type": "markdown",
   "metadata": {},
   "source": [
    "# Gestion du temps\n",
    "\n",
    "Nous allons créer un petit logiciel de gestion du temps et des dates.\n",
    "Pour cela nous aurons besoin de créer un certain nombre de fonctions utilitaires.\n",
    "\n",
    "Un temps a le format suivant: (jour: int, heure: int, minute: int, seconde: int).\n",
    "C'est un tuple de 4 éléments. Par exemple (4, 3, 13, 20) correspond à 4 jours, 3 heures, 13 minutes et 20 secondes.\n",
    "Si on a une variable temps = (4, 3, 13, 20), pour accéder au premier élément on fait temps\\[0\\] ce qui donne 4,\n",
    "le nombre de jours.\n",
    "\n",
    "Créer la fonction qui prend comme argument le temps et renvoie le nombre de seconde total correspondant à ce temps.\n",
    "Créer la fonction qui prend un nombre de secondes et renvoie le temps correspondant."
   ]
  },
  {
   "cell_type": "code",
   "execution_count": 1,
   "metadata": {},
   "outputs": [
    {
     "name": "stdout",
     "output_type": "stream",
     "text": [
      "3 jours 23 heures 1 minutes 34 secondes\n"
     ]
    }
   ],
   "source": [
    "# temps[0] : jours, temps[1]: heures, temps[2]: mintures, temps[3] : secondes\n",
    "def TpsSec(temps):\n",
    "    \"\"\"Renvoie la valeur en seconde de temps donné comme jour, heure, minute, secondes.\"\"\"\n",
    "    return temps[0]*86400+temps[1]*3600+temps[2]*60+temps[3]\n",
    "\n",
    "m_temps = [3, 23, 1, 34]\n",
    "# print(type(m_temps))\n",
    "# print(TpsSec(m_temps))\n",
    "\n",
    "def SecTps (seconde : int) -> tuple:\n",
    "    \"\"\"Renvoie le temps (jour, heure, minute, seconde) qui correspond au nbr de seconde passé en argument\"\"\"\n",
    "    jours = seconde // 86400\n",
    "    reste = seconde % 86400\n",
    "    heures = reste // 3600\n",
    "    reste = reste % 3600\n",
    "    minutes = reste // 60\n",
    "    reste = reste % 60\n",
    "    return(jours, heures, minutes, reste)\n",
    "\n",
    "temps = SecTps(100000)\n",
    "print(m_temps[0], \"jours\", m_temps[1], \"heures\", m_temps[2], \"minutes\", m_temps[3], \"secondes\")"
   ]
  },
  {
   "cell_type": "markdown",
   "metadata": {},
   "source": [
    "Créer une fonction d'affichage d'un temps `afficheTemps`. Attention, les mots jour, heure et seconde doivent être au pluriel s'il y en a plusieurs. S'il y en a zéro, ils ne doivent pas apparaître.\n",
    "`print(message, end=\"\")` permet de ne pas sauter une ligne après un print. \n",
    "Vous pouvez écrire une fonction qui affiche un mot au pluriel ou non, appelée ensuite plusieurs fois par `afficheTemps` pour simplifier votre code.\n"
   ]
  },
  {
   "cell_type": "code",
   "execution_count": 3,
   "metadata": {},
   "outputs": [
    {
     "name": "stdout",
     "output_type": "stream",
     "text": [
      "  1 Jour  3 Heures  46 Minutes  40 Secondes"
     ]
    }
   ],
   "source": [
    "def plrs (mot: str, nombre: int) -> None:\n",
    "    if nombre > 0:\n",
    "        print(\" \", nombre, mot, end=\"\")\n",
    "    if nombre > 1:\n",
    "        print(\"s\", end=\"\")\n",
    "    \n",
    "def AffTps (m_temps):\n",
    "    plrs(nombre = temps[0], mot = \"Jour\")\n",
    "    plrs(nombre = temps[1], mot = \"Heure\")\n",
    "    plrs(nombre = temps[2], mot = \"Minute\")\n",
    "    plrs(nombre = temps[3], mot = \"Seconde\")\n",
    "\n",
    "AffTps(m_temps)"
   ]
  },
  {
   "cell_type": "markdown",
   "metadata": {},
   "source": [
    "Ecrire une fonction qui demande à l'utilisateur de rentrer un nombre de jours, d'heures, de minutes et\n",
    "de secondes et qui renvoie un temps. Attention, si l'entrée utilisateur n'est pas correcte, par exemple 80 minutes,\n",
    "afficher un message d'erreur et s'arrêter.\n",
    "\n",
    "(Optionnel) Au lieu d'arêter le programme, demander de rentrer une nouvelle valeur, tant que \n",
    "ce n'est pas une valeur correcte."
   ]
  },
  {
   "cell_type": "code",
   "execution_count": 4,
   "metadata": {},
   "outputs": [
    {
     "name": "stdout",
     "output_type": "stream",
     "text": [
      "  1 Jour  3 Heures  46 Minutes  40 Secondes"
     ]
    }
   ],
   "source": [
    "def demandeTemps():\n",
    "    jours = -1\n",
    "    heures = -1\n",
    "    minutes = -1\n",
    "    secondes = -1\n",
    "\n",
    "    while(jours<0):\n",
    "        jours = int(input(\"Nbr de jour\"))\n",
    "\n",
    "    while(heures<0 and heures>=24):\n",
    "        heures = int(input(\"Nbr d'heures\"))\n",
    "\n",
    "    while(minutes<0 and minutes >= 60):\n",
    "        minutes = int(input(\"Nbr de minutes\"))\n",
    "\n",
    "    while(secondes<0 and secondes >= 60):\n",
    "        secondes = int(input(\"Nbr de secondes\"))\n",
    "\n",
    "AffTps(demandeTemps())"
   ]
  },
  {
   "cell_type": "markdown",
   "metadata": {},
   "source": [
    "On veut être capable d'additionner deux temps. Donner une fonction qui fait ce calcul,\n",
    "en utilisant les fonctions précédentes."
   ]
  },
  {
   "cell_type": "code",
   "execution_count": null,
   "metadata": {},
   "outputs": [],
   "source": [
    "def sommeTemps(temps1, temps2):\n",
    "    return SecTps (TpsSec(temps1)+TpsSec(temps2))\n",
    "\n",
    "AffTps(sommeTemps((2,3,4,25),(5,22,57,1)))"
   ]
  },
  {
   "cell_type": "markdown",
   "metadata": {},
   "source": [
    "On veut maintenant calculer un pourcentage d'un temps. Par exemple, 20% de\n",
    "2 jours et 36 minutes correspond à 9 heures, 43 minutes et 12 secondes.\n",
    "\n",
    "Implémenter la fonction `proportionTemps` puis appeler cette fonction en échangeant l'ordre des arguments mais en les nommant."
   ]
  },
  {
   "cell_type": "code",
   "execution_count": null,
   "metadata": {},
   "outputs": [],
   "source": [
    "def proportionTemps(temps,proportion):\n",
    "    return SecTps (int(TpsSec(temps) * proportion))\n",
    "AffTps(proportionTemps((2,0,36,0),0.2))\n",
    "#appeler la fonction en échangeant l'ordre des arguments\n",
    "\n",
    "AffTps(proportionTemps(proportion=0.2, temps = (2, 0, 36, 0)))"
   ]
  },
  {
   "cell_type": "markdown",
   "metadata": {},
   "source": [
    "On veut maintenant afficher un temps sous forme de date, en supposant \n",
    "que le temps 0 est le 1 janvier 1970 à 00:00:00.\n",
    "\n",
    "* Implémenter une fonction `tempsEnDate` qui donne la date sous la forme (année, jour, heure, minute, seconde).\n",
    "* Implémenter la fonction `afficheDate` qui affiche la date. \n",
    "* (Optionnel) Gérer également les mois."
   ]
  },
  {
   "cell_type": "code",
   "execution_count": 6,
   "metadata": {},
   "outputs": [
    {
     "ename": "SyntaxError",
     "evalue": "invalid syntax (2412848079.py, line 12)",
     "output_type": "error",
     "traceback": [
      "\u001b[1;36m  Cell \u001b[1;32mIn [6], line 12\u001b[1;36m\u001b[0m\n\u001b[1;33m    print(\"Jour numéro,\" date[1], \"de l'année\", date[0], \"à\", str(date[2])+ str(date[3])+\":\"+str(date[4]))\u001b[0m\n\u001b[1;37m                         ^\u001b[0m\n\u001b[1;31mSyntaxError\u001b[0m\u001b[1;31m:\u001b[0m invalid syntax\n"
     ]
    }
   ],
   "source": [
    "import time\n",
    "\n",
    "def tempsEnDate(temps: tuple) -> tuple:\n",
    "    année = 1970 + temps[0]//365\n",
    "    NmJrs = 1 + temps[0]%365\n",
    "    return(année, NmJrs, temps[1], temps[2], temps[3])\n",
    "\n",
    "\n",
    "def afficheDate(date = tuple()) -> None:\n",
    "    if len(date) == 0:\n",
    "        date = tempsEnDate(SecTps(int(time.time())))\n",
    "    print(\"Jour numéro,\" date[1], \"de l'année\", date[0], \"à\", str(date[2])+ str(date[3])+\":\"+str(date[4]))\n",
    "    \n",
    "temps = SecTps(86401)\n",
    "AffTps(m_temps)\n",
    "afficheDate(tempsEnDate(m_temps))\n",
    "afficheDate()"
   ]
  },
  {
   "cell_type": "markdown",
   "metadata": {},
   "source": [
    "Il existe des fonctions dans la librairie `time` pour la gestion du temps. En particulier, il existe\n",
    "une fonction `time` qui donne le temps écoulé depuis 1970 en secondes. \n",
    "La trouver avec la [documentation python](https://docs.python.org/fr/3/library/time.html#module-time) et la tester en utilisant `afficheDate`. \n",
    "Tester de la même manière la fonction `time.gmtime` qui réalise une tâche similaire à `tempsEnDate`.\n",
    "Que constatez vous ?"
   ]
  },
  {
   "cell_type": "code",
   "execution_count": 7,
   "metadata": {},
   "outputs": [
    {
     "ename": "TypeError",
     "evalue": "an integer is required (got type tuple)",
     "output_type": "error",
     "traceback": [
      "\u001b[1;31m---------------------------------------------------------------------------\u001b[0m",
      "\u001b[1;31mTypeError\u001b[0m                                 Traceback (most recent call last)",
      "Cell \u001b[1;32mIn [7], line 3\u001b[0m\n\u001b[0;32m      1\u001b[0m \u001b[38;5;66;03m#tester ici les fonctions de la librairie time\u001b[39;00m\n\u001b[0;32m      2\u001b[0m \u001b[38;5;28;01mimport\u001b[39;00m \u001b[38;5;21;01mtime\u001b[39;00m\n\u001b[1;32m----> 3\u001b[0m \u001b[43mtime\u001b[49m\u001b[38;5;241;43m.\u001b[39;49m\u001b[43mgmtime\u001b[49m\u001b[43m(\u001b[49m\u001b[43mtemps\u001b[49m\u001b[43m)\u001b[49m\n",
      "\u001b[1;31mTypeError\u001b[0m: an integer is required (got type tuple)"
     ]
    }
   ],
   "source": [
    "#tester ici les fonctions de la librairie time\n",
    "import time\n",
    "time.gmtime(temps)"
   ]
  },
  {
   "cell_type": "markdown",
   "metadata": {},
   "source": [
    "Attention, tous les 4 ans les années sont bisextiles (un jour de plus) sauf les multiples de 100 qui ne sont pas des multiples de 400.\n",
    "Donner un code qui prend un nombre de jours et affiche toutes les années bisextiles depuis le 1er janvier 1970 à 00:00:00 jusqu'à la fin de ces jours."
   ]
  },
  {
   "cell_type": "code",
   "execution_count": null,
   "metadata": {},
   "outputs": [],
   "source": [
    "def bisextile(jour:int)-> tuple:\n",
    "    annee=1970\n",
    "    while(jour>=365):\n",
    "        if Bisextile(annee):\n",
    "            print(\"l'année\" + str(annee) + \"est bisextile\")\n",
    "            jour -= 366\n",
    "        else:\n",
    "            jour -= 365\n",
    "        annee += 1"
   ]
  },
  {
   "cell_type": "markdown",
   "metadata": {},
   "source": [
    "Implémenter une fonction `nombreBisextile` qui calcule le nombre d'années bisextiles entre le 1er janvier 1970 et le nombre de jour donnés.\n",
    "Utilisez-la pour implémenter une fonction `tempsEnDateBisextile` qui fait la même chose que `tempsEnDate` mais en prenant en compte les années bisextiles."
   ]
  },
  {
   "cell_type": "code",
   "execution_count": null,
   "metadata": {},
   "outputs": [],
   "source": [
    "def nbBisextile(jour:int)->int:\n",
    "    annee = 1970\n",
    "    while(jour >= 365):\n",
    "        if Bisextile(annee):\n",
    "            compteur_bisextile += 1\n",
    "            jour -= 366\n",
    "        else:\n",
    "            jour -= 365\n",
    "        annee += 1\n",
    "    return compteur_bisextile\n",
    "        \n",
    "bisextile(20000)\n",
    "\n",
    "\n",
    "def tempsEnDateBisextile(temps):\n",
    "    jour, heure, minute, seconde = temps\n",
    "    jour = jour - nbBisextile(jour)\n",
    "    temps_ajuste = (jour, heure, minute, seconde)\n",
    "    return tempsEnDate(temps_ajuste)\n",
    "   \n",
    "afficheDate(tempsEnDateBisextile(SecTps(int(time.time()))))"
   ]
  },
  {
   "cell_type": "code",
   "execution_count": null,
   "metadata": {},
   "outputs": [],
   "source": [
    "def AffDateV2 (date: tuple = ()) -> None :\n",
    "    if len(date) == 0:\n",
    "        date = tempsEnDateBisextile(SecTps(int(time.time())))\n",
    "    nom_des_mois = [\"Janvier\", \"Février\", \"Mars\", \"Avril\", \"Mai\", \"Juin\", \"Juillet\", \"Août\", \"Septembre\", \"Octobre\", \"Novembre\", \"Décembre\"]\n",
    "    ...\n"
   ]
  },
  {
   "cell_type": "markdown",
   "metadata": {},
   "source": [
    "Ajouter des valeurs par défaut dans le code de `afficheDate` afin de pouvoir ommettre\n",
    "l'argument de ces fonctions. Dans ce cas là, on affichera la date actuelle en utilisant la fonction `time`."
   ]
  },
  {
   "cell_type": "markdown",
   "metadata": {},
   "source": [
    "On va maintenant inspecter notre code pour améliorer sa qualité:\n",
    "\n",
    "* Regarder tous les warnings donnés par flake8 et essayer de les régler.\n",
    "* Utiliser le debugger (F5) pour étudier le fonctionnement de votre fonction nombreBisextile.\n",
    "* Mettre les annotations de type des arguments et du retour de la fonction pour nombreBisextile et une autre fonction de votre choix. Vérifier avec mypy que tout fonctionne bien."
   ]
  },
  {
   "cell_type": "markdown",
   "metadata": {},
   "source": [
    "Donner une fonction qui vérifie la charge horaire d'un employé, donnée sous forme d'une liste de temps travaillé chaque semaine dans un mois. Il ne faut pas dépasser 48h par semaine et 140h par mois (qu'on considère ici de 4 semaines).\n",
    "\n",
    "(Optionnel) S'adapter à une liste qui peut contenir plusieurs mois."
   ]
  },
  {
   "cell_type": "code",
   "execution_count": 20,
   "metadata": {},
   "outputs": [
    {
     "name": "stdout",
     "output_type": "stream",
     "text": [
      "[1, 2, 39, 34] [0, 1, 9, 4]\n"
     ]
    }
   ],
   "source": [
    "import time\n",
    "def verifie(liste_temps):\n",
    "    jour = liste_temps[0]\n",
    "    heure = liste_temps[1]\n",
    "    print (jour, heure)\n",
    "\n",
    "\n",
    "liste_temps = [[1,2,39,34],[0,1,9,4],[0,29,39,51],[0,31,13,46]]\n",
    "verifie(liste_temps)"
   ]
  },
  {
   "cell_type": "code",
   "execution_count": null,
   "metadata": {},
   "outputs": [],
   "source": [
    "def TpsSec(temps : tuple) -> int:\n",
    "    \"\"\"Renvoie la valeur en seconde de temps donné comme jour, heure, minute, secondes.\"\"\"\n",
    "    return temps[0]*86400+temps[1]*3600+temps[2]*60+temps[3]\n",
    "\n",
    "# print(type(m_temps))\n",
    "# print(TpsSec(m_temps))\n",
    "\n",
    "def SecTps (seconde : int) -> tuple:\n",
    "    \"\"\"Renvoie le temps (jour, heure, minute, seconde) qui correspond au nbr de seconde passé en argument\"\"\"\n",
    "    jours = seconde // 86400\n",
    "    reste = seconde % 86400\n",
    "    heures = reste // 3600\n",
    "    reste = reste % 3600\n",
    "    minutes = reste // 60\n",
    "    reste = reste % 60\n",
    "    return(jours, heures, minutes, reste)\n",
    "\n",
    "temps = SecTps(100000)\n",
    "# print(m_temps[0], \"jours\", m_temps[1], \"heures\", m_temps[2], \"minutes\", m_temps[3], \"secondes\")\n",
    "\n",
    "\n",
    "def plrs (mot: str, nombre : int) -> None:\n",
    "    if nombre>0:\n",
    "        print(\" \", nombre, mot, end=\"\")\n",
    "    if nombre>1:\n",
    "        print(\"s\", end=\"\")\n",
    "\n",
    "def AffTps (temps):\n",
    "   plrs(temps[0], \"Jour,\")\n",
    "   plrs(temps[1], \"Heure,\")\n",
    "   plrs(temps[2], \"Minute,\")\n",
    "   plrs(temps[3], \"Seconde,\")\n",
    "\n",
    "AffTps(temps) # ((1, 0, 14, 23))\n"
   ]
  },
  {
   "cell_type": "code",
   "execution_count": 1,
   "metadata": {},
   "outputs": [
    {
     "name": "stdout",
     "output_type": "stream",
     "text": [
      "Vous êtes majeur\n"
     ]
    }
   ],
   "source": [
    "user = float(input(\"rentre ton âge : \"))\n",
    "if user <= 3:\n",
    "    print(\"Vous êtes bien jeune pour utiliser un ordinateur\")\n",
    "elif user == 10:\n",
    "    nom = input(\"Quel est ton nom ?\")\n",
    "    if nom == \"Frisk\" or nom == \"Chara\":\n",
    "        print(\"Hello Undertale !\")\n",
    "    else:\n",
    "        print(\"Dommage, tu aurais pu avoir un 'gaster' egg =) \")\n",
    "elif user > 3 and user <= 13:\n",
    "    print(\"Bientôt l'adolescence !\")\n",
    "elif user > 13 and user <= 18:\n",
    "    print(\" Argh non ! Un ado\")\n",
    "elif user > 18:\n",
    "    print (\"Vous êtes majeur\")\n",
    "\n"
   ]
  }
 ],
 "metadata": {
  "kernelspec": {
   "display_name": "Python 3.9.12 ('base')",
   "language": "python",
   "name": "python3"
  },
  "language_info": {
   "codemirror_mode": {
    "name": "ipython",
    "version": 3
   },
   "file_extension": ".py",
   "mimetype": "text/x-python",
   "name": "python",
   "nbconvert_exporter": "python",
   "pygments_lexer": "ipython3",
   "version": "3.9.12"
  },
  "vscode": {
   "interpreter": {
    "hash": "60210617e42cdaf7c08c48b31a40cc0b65e0c8957f8108380e9d272d5a5882e2"
   }
  }
 },
 "nbformat": 4,
 "nbformat_minor": 4
}
